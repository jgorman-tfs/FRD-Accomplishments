{
 "cells": [
  {
   "cell_type": "markdown",
   "metadata": {},
   "source": [
    "# UCF Communities Quarterly Reporting"
   ]
  },
  {
   "cell_type": "markdown",
   "metadata": {},
   "source": [
    "## This goal of this script is to calculate the total acres of communities assisted by Urban & Community Forestry (UCF) each quarter. This is an additional step to the FRD Accomplishments Map due each quarter. You can find more detailed information on the README in Github https://github.com/jgorman-tfs/FRD-Accomplishments <br>\n",
    "### Before you begin, please ensure you have done the following steps\n",
    "1. Received the quarterly division reporting from Mac\n",
    "2. Organized the communities into ONE SHEET, ensuring no duplicates and no categories that should be excluded (e.g. phone calls). Read more about data clean up in the README\n",
    "3. Have only 2 columns: ideally one as CityName and one as AssistType.\n",
    "4. You MUST have a U.S. Census Places layer with a column for the County that Place is in. "
   ]
  },
  {
   "cell_type": "markdown",
   "metadata": {},
   "source": [
    "### You should only need to alter the following cell. Ensure the paths are correct and the correct sheet name is used."
   ]
  },
  {
   "cell_type": "code",
   "execution_count": null,
   "metadata": {},
   "outputs": [],
   "source": [
    "import pandas as pd\n",
    "import os\n",
    "#Quarter and fiscal year\n",
    "qtr = \"Q6_2024\"\n",
    "#Set folder path to new quarter folder\n",
    "folder_path = r'D:\\ArcGIS_Projects\\FRDAccomplishments\\Testing'\n",
    "#Set the geodatabase path\n",
    "gdb = r'D:\\ArcGIS_Projects\\FRDAccomplishments\\FRDAccomplishments.gdb'\n",
    "#This shapefile is provided in sharepoint. If your using your own, you MUST calculate a new field with the County names of each city.\n",
    "cities = \"Texas_Places_WithCounties\"\n",
    "#Path to the excel file provided by Mac\n",
    "excel_path = r\"D:\\ArcGIS_Projects\\FRDAccomplishments\\Testing\\Q4 Division Reporting.xlsx\"\n",
    "#Sheet name of said excel file that has the edited data\n",
    "sheet_name = \"AllCommunities2\"\n",
    "#This is a temperory csv, it doesn't really matter where it goes\n",
    "output_path = os.path.join(r'D:\\ArcGIS_Projects\\FRDAccomplishments', 'Q6FY24Cities.csv')"
   ]
  },
  {
   "cell_type": "code",
   "execution_count": null,
   "metadata": {},
   "outputs": [],
   "source": [
    "'''\n",
    "This block will convert the excel sheet into a pandas dataframe and rename the columns for consistency,\n",
    "removes spaces, and converts it back to excel to be converted to an arcgis pro table\n",
    "'''\n",
    "aprx = arcpy.mp.ArcGISProject(\"CURRENT\")\n",
    "aprx.save()\n",
    "\n",
    "# create a dataframe from the excel file and sheet\n",
    "df = pd.read_excel(excel_path, sheet_name=sheet_name)\n",
    "\n",
    "# Rename columns\n",
    "old_column_list = df.columns.tolist()\n",
    "print(\"old column headers:\", old_column_list)\n",
    "new_column_names = {\n",
    "    old_column_list[0]: \"CityName\",\n",
    "    old_column_list[1]: \"AssistType\"\n",
    "}\n",
    "df.rename(columns=new_column_names, inplace=True)\n",
    "\n",
    "# Remove spaces from the 'CityName' column\n",
    "df['CityName'] = df['CityName'].str.replace(' ', '', regex=False)\n",
    "print(df.head(5))\n",
    "\n",
    "# Convert the DataFrame to csv  file and print its location\n",
    "df.to_csv(output_path, index=False)\n",
    "print(f\"Excel file saved to: {output_path}\")\n",
    "\n",
    "#create a table in ArcGIS Pro from the csv\n",
    "arcpy.TableToTable_conversion(output_path, gdb, f\"{qtr}_Cities\")"
   ]
  },
  {
   "cell_type": "markdown",
   "metadata": {},
   "source": [
    "# CRITICAL STEP\n",
    "### Open the newly created ArcGIS Pro table and look for null values in the testing column. Figure out why they are not matching to the Texas_Places_WithCounties. It is likely they are either misspelled or are actually counties and not cities. If they are counties, you can delete them.\n",
    "\n",
    "### Once you have fixed the issue, delete the testing column and re-run this cell to check. Repeat until there are no null values in the testing column. "
   ]
  },
  {
   "cell_type": "code",
   "execution_count": null,
   "metadata": {},
   "outputs": [],
   "source": [
    "#Join field from Texas_Places_WithCounties to match the city name to the county it resides in\n",
    "in_data = f\"{gdb}\\\\{qtr}_Cities\"\n",
    "in_field = \"CityName\"\n",
    "join_table = f\"{gdb}\\\\{cities}\"\n",
    "join_field = \"CityName\"\n",
    "fields = \"Testing\"\n",
    "arcpy.management.JoinField(in_data, in_field, join_table, join_field, fields)"
   ]
  },
  {
   "cell_type": "code",
   "execution_count": null,
   "metadata": {},
   "outputs": [],
   "source": [
    "in_table = f\"{gdb}\\\\{qtr}_Cities\"\n",
    "field_name = f\"{qtr}_Acres\"\n",
    "field_type = \"FLOAT\"\n",
    "field_precision = 2\n",
    "arcpy.management.AddField(in_table, field_name, field_type, field_precision)\n",
    "\n",
    "expression = 0\n",
    "arcpy.management.CalculateField(in_table, field_name, expression)"
   ]
  },
  {
   "cell_type": "code",
   "execution_count": null,
   "metadata": {},
   "outputs": [],
   "source": [
    "'''This block performs a field join back to the Texas_Places_WithCounties so that the acres can be calculated'''\n",
    "\n",
    "texas_cities = f\"{gdb}\\\\{cities}\"\n",
    "in_field = \"CityName\"\n",
    "imported_table = f\"{gdb}\\\\{qtr}_Cities\"\n",
    "join_field = \"CityName\"\n",
    "fields = field_name\n",
    "arcpy.management.JoinField(texas_cities, in_field, imported_table, join_field, fields)"
   ]
  },
  {
   "cell_type": "code",
   "execution_count": null,
   "metadata": {},
   "outputs": [],
   "source": [
    "'''This block will do a final check to make sure Texas_Places_WithCounties \n",
    "has the correct amount of cities to calculate. If it doesn't, you will need find out why they are not matching '''\n",
    "\n",
    "arcpy.management.SelectLayerByAttribute(imported_table, \"NEW_SELECTION\", f\"{fields} = 0\")\n",
    "num_cities_intable = int(arcpy.management.GetCount(imported_table)[0])\n",
    "print(f\"Number of cities in the Imported Table: {num_cities_intable}\")\n",
    "arcpy.management.SelectLayerByAttribute(imported_table, \"CLEAR_SELECTION\")\n",
    "\n",
    "arcpy.management.SelectLayerByAttribute(cities, \"NEW_SELECTION\", f\"{field_name} = 0\")\n",
    "num_cities_incities = int(arcpy.management.GetCount(cities)[0])\n",
    "print(f\"Number of cities in the Texas_Places_WithCounties: {num_cities_incities}\")\n",
    "arcpy.management.SelectLayerByAttribute(cities, \"CLEAR_SELECTION\")\n",
    "\n",
    "if num_cities_intable != num_cities_incities:\n",
    "    print(\"There is something wrong. The number of cities in the imported table and the feature layer do not match.\")\n",
    "else:\n",
    "    print(\"Continue onto the next step\")"
   ]
  },
  {
   "cell_type": "code",
   "execution_count": null,
   "metadata": {},
   "outputs": [],
   "source": [
    "'''This block will select the appropriate citiies and calculate their acres'''\n",
    "\n",
    "arcpy.management.SelectLayerByAttribute(cities, \"NEW_SELECTION\", f\"{field_name} = 0\")\n",
    "num_cities_incities = int(arcpy.management.GetCount(cities)[0])\n",
    "print(f\"Number of cities in the Texas_Places_WithCounties: {num_cities_incities}\")\n",
    "\n",
    "length_unit = \"MILES_US\"\n",
    "area_unit = \"ACRES_US\"\n",
    "\n",
    "# Define the WKID (Well-Known ID) of the coordinate system you want to use\n",
    "wkid = 3665  # Example: WGS 1984 Geographic Coordinate System\n",
    "\n",
    "try:\n",
    "    # Create a spatial reference object using the specified WKID\n",
    "    spatial_ref = arcpy.SpatialReference(3665)\n",
    "\n",
    "    # Calculate geometry attributes with specified coordinate system and units\n",
    "    arcpy.management.CalculateGeometryAttributes(cities,\n",
    "                                                 [[field_name, \"AREA_GEODESIC\"]],\n",
    "                                                 length_unit, area_unit,\n",
    "                                                 spatial_ref)\n",
    "\n",
    "    print(\"Geometry attributes calculated successfully.\")\n",
    "\n",
    "except arcpy.ExecuteError as e:\n",
    "    print(f\"ExecuteError: {e}\")\n",
    "except Exception as e:\n",
    "    print(f\"Error occurred: {e}\")"
   ]
  },
  {
   "cell_type": "code",
   "execution_count": null,
   "metadata": {},
   "outputs": [],
   "source": [
    "'''This block will sum the the acres into a new table'''\n",
    "\n",
    "community_acres = f\"{gdb}\\\\{qtr}_CommunityAcres_Total\"\n",
    "arcpy.analysis.Statistics(cities, community_acres, [[field_name, \"SUM\"]])\n",
    "arcpy.management.SelectLayerByAttribute(cities, \"CLEAR_SELECTION\")"
   ]
  },
  {
   "cell_type": "code",
   "execution_count": null,
   "metadata": {},
   "outputs": [],
   "source": []
  }
 ],
 "metadata": {
  "kernelspec": {
   "display_name": "Python 3 (ipykernel)",
   "language": "python",
   "name": "python3"
  },
  "language_info": {
   "file_extension": ".py",
   "name": "python",
   "version": "3"
  }
 },
 "nbformat": 4,
 "nbformat_minor": 2
}
