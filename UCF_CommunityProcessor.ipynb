{
 "cells": [
  {
   "cell_type": "markdown",
   "metadata": {},
   "source": [
    "# UCF Communities Quarterly Reporting"
   ]
  },
  {
   "cell_type": "markdown",
   "metadata": {},
   "source": [
    "## This goal of this script is to calculate the total acres of communities assisted by Urban & Community Forestry (UCF) each quarter. This is an additional step to the FRD Accomplishments Map due each quarter. You can find more detailed information on the README in Github https://github.com/jgorman-tfs/FRD-Accomplishments <br>\n",
    "### Before you begin, please ensure you have done the following steps\n",
    "1. Received the quarterly division reporting from Mac\n",
    "2. Organized the communities into ONE SHEET, ensuring no duplicates and no categories that should be excluded (e.g. phone calls). Read more about data clean up in the README\n",
    "3. Have only 2 columns: ideally one as CityName and one as AssistType."
   ]
  },
  {
   "cell_type": "markdown",
   "metadata": {},
   "source": [
    "### You should only need to alter the following cell. Ensure the paths are correct and the correct sheet name is used."
   ]
  },
  {
   "cell_type": "code",
   "execution_count": 80,
   "metadata": {},
   "outputs": [],
   "source": [
    "import pandas as pd\n",
    "import os\n",
    "#Quarter and fiscal year\n",
    "qtr = \"Q4_2024\"\n",
    "#Set folder path to new quarter folder\n",
    "folder_path = r'D:\\ArcGIS_Projects\\FRDAccomplishments\\Testing'\n",
    "#Set the geodatabase path\n",
    "gdb = r'D:\\ArcGIS_Projects\\FRDAccomplishments\\FRDAccomplishments.gdb'\n",
    "#This shapefile is provided in sharepoint. If your using your own, you MUST calculate a new field with the County names of each city.\n",
    "cities = \"Texas_Places_WithCounties\"\n",
    "#Path to the excel file provided by Mac\n",
    "excel_path = r\"D:\\ArcGIS_Projects\\FRDAccomplishments\\Testing\\Q4 Division Reporting.xlsx\"\n",
    "#Sheet name of said excel file that has the edited data\n",
    "sheet_name = \"AllCommunities2\"\n",
    "#This is a temperory csv, it doesn't really matter where it goes\n",
    "output_path = os.path.join(r'D:\\ArcGIS_Projects\\FRDAccomplishments', 'Q4FY24Cities.csv')"
   ]
  },
  {
   "cell_type": "code",
   "execution_count": 82,
   "metadata": {},
   "outputs": [
    {
     "name": "stdout",
     "output_type": "stream",
     "text": [
      "old column headers: ['City ', 'Assist']\n",
      "      CityName                     AssistType\n",
      "0       Alpine  Arbor Day/Tree City USA Event\n",
      "1    Ingleside  Arbor Day/Tree City USA Event\n",
      "2  JohnsonCity  Arbor Day/Tree City USA Event\n",
      "3      Killeen  Arbor Day/Tree City USA Event\n",
      "4  PortAransas  Arbor Day/Tree City USA Event\n"
     ]
    }
   ],
   "source": [
    "aprx = arcpy.mp.ArcGISProject(\"CURRENT\")\n",
    "aprx.save()\n",
    "\n",
    "# create a dataframe from the excel file and sheet\n",
    "df = pd.read_excel(excel_path, sheet_name=sheet_name)\n",
    "\n",
    "# Rename columns\n",
    "old_column_list = df.columns.tolist()\n",
    "print(\"old column headers:\", old_column_list)\n",
    "new_column_names = {\n",
    "    old_column_list[0]: \"CityName\",\n",
    "    old_column_list[1]: \"AssistType\"\n",
    "}\n",
    "df.rename(columns=new_column_names, inplace=True)\n",
    "# Remove spaces from the 'CityName' column\n",
    "df['CityName'] = df['CityName'].str.replace(' ', '', regex=False)\n",
    "print(df.head(5))"
   ]
  },
  {
   "cell_type": "code",
   "execution_count": 83,
   "metadata": {},
   "outputs": [
    {
     "name": "stdout",
     "output_type": "stream",
     "text": [
      "Excel file saved to: D:\\ArcGIS_Projects\\FRDAccomplishments\\Q4FY24Cities.csv\n"
     ]
    },
    {
     "data": {
      "text/html": [
       "<div class='gpresult'><h2>Messages</h2><div id='messages'>Start Time: Wednesday, September 11, 2024 11:55:33 AM<br>Succeeded at Wednesday, September 11, 2024 11:55:34 AM (Elapsed Time: 0.97 seconds)<br></div><div id = 'default' /></div></div>"
      ],
      "text/plain": [
       "<Result 'D:\\\\ArcGIS_Projects\\\\FRDAccomplishments\\\\FRDAccomplishments.gdb\\\\Q4_2024_Cities'>"
      ]
     },
     "execution_count": 83,
     "metadata": {},
     "output_type": "execute_result"
    }
   ],
   "source": [
    "# Convert the DataFrame to csv  file and print its location\n",
    "df.to_csv(output_path, index=False)\n",
    "print(f\"Excel file saved to: {output_path}\")\n",
    "\n",
    "#create a table in ArcGIS Pro from the csv\n",
    "arcpy.TableToTable_conversion(output_path, gdb, f\"{qtr}_Cities\")"
   ]
  },
  {
   "cell_type": "code",
   "execution_count": 84,
   "metadata": {},
   "outputs": [
    {
     "data": {
      "text/html": [
       "<div class='gpresult'><h2>Messages</h2><div id='messages'>Start Time: Wednesday, September 11, 2024 11:58:39 AM<br>Succeeded at Wednesday, September 11, 2024 11:58:40 AM (Elapsed Time: 0.93 seconds)<br></div><div id = 'default' /></div></div>"
      ],
      "text/plain": [
       "<Result 'D:\\\\ArcGIS_Projects\\\\FRDAccomplishments\\\\FRDAccomplishments.gdb\\\\Q4_2024_Cities'>"
      ]
     },
     "execution_count": 84,
     "metadata": {},
     "output_type": "execute_result"
    }
   ],
   "source": [
    "#Join field from Texas_Places_WithCounties to match the city name to the county it resides in\n",
    "in_data = f\"{gdb}\\\\{qtr}_Cities\"\n",
    "in_field = \"CityName\"\n",
    "join_table = f\"{gdb}\\\\{cities}\"\n",
    "join_field = \"CityName\"\n",
    "fields = \"Testing\"\n",
    "arcpy.management.JoinField(in_data, in_field, join_table, join_field, fields)"
   ]
  },
  {
   "cell_type": "markdown",
   "metadata": {},
   "source": [
    "# CRITICAL STEP\n",
    "### Open the table in ArcPro and see if there are any null values. IF there are, find out why they are not matching to the Texas_Places_WithCounties. If there are Counties in the CityName column of your table, you can delete those rows. This is because we are trying to find unqiue CITIES and calculate thier acres, not COUNTIES. You can delete the Testing column to re-run this cell until there are no null values in the Testing column."
   ]
  },
  {
   "cell_type": "code",
   "execution_count": 90,
   "metadata": {},
   "outputs": [
    {
     "data": {
      "text/html": [
       "<div class='gpresult'><h2>Messages</h2><div id='messages'>Start Time: Wednesday, September 11, 2024 12:07:33 PM<br>Adding Q4_2024_Acres2 to Q4_2024_Cities...<br>Succeeded at Wednesday, September 11, 2024 12:07:33 PM (Elapsed Time: 0.43 seconds)<br></div><div id = 'default' /></div></div>"
      ],
      "text/plain": [
       "<Result 'D:\\\\ArcGIS_Projects\\\\FRDAccomplishments\\\\FRDAccomplishments.gdb\\\\Q4_2024_Cities'>"
      ]
     },
     "execution_count": 90,
     "metadata": {},
     "output_type": "execute_result"
    }
   ],
   "source": [
    "in_table = f\"{gdb}\\\\{qtr}_Cities\"\n",
    "field_name = f\"{qtr}_Acres\"\n",
    "field_type = \"FLOAT\"\n",
    "field_precision = 2\n",
    "arcpy.management.AddField(in_table, field_name, field_type, field_precision)"
   ]
  },
  {
   "cell_type": "code",
   "execution_count": 91,
   "metadata": {},
   "outputs": [
    {
     "data": {
      "text/html": [
       "<div class='gpresult'><h2>Messages</h2><div id='messages'>Start Time: Wednesday, September 11, 2024 12:07:34 PM<br>Succeeded at Wednesday, September 11, 2024 12:07:34 PM (Elapsed Time: 0.15 seconds)<br></div><div id = 'default' /></div></div>"
      ],
      "text/plain": [
       "<Result 'D:\\\\ArcGIS_Projects\\\\FRDAccomplishments\\\\FRDAccomplishments.gdb\\\\Q4_2024_Cities'>"
      ]
     },
     "execution_count": 91,
     "metadata": {},
     "output_type": "execute_result"
    }
   ],
   "source": [
    "expression = 0\n",
    "arcpy.management.CalculateField(in_table, field_name, expression)"
   ]
  },
  {
   "cell_type": "code",
   "execution_count": 92,
   "metadata": {},
   "outputs": [
    {
     "data": {
      "text/html": [
       "<div class='gpresult'><h2>Messages</h2><div id='messages'>Start Time: Wednesday, September 11, 2024 12:07:35 PM<br>Succeeded at Wednesday, September 11, 2024 12:07:37 PM (Elapsed Time: 1.85 seconds)<br></div><div id = 'default' /></div></div>"
      ],
      "text/plain": [
       "<Result 'D:\\\\ArcGIS_Projects\\\\FRDAccomplishments\\\\FRDAccomplishments.gdb\\\\Texas_Places_WithCounties'>"
      ]
     },
     "execution_count": 92,
     "metadata": {},
     "output_type": "execute_result"
    }
   ],
   "source": [
    "texas_cities = f\"{gdb}\\\\{cities}\"\n",
    "in_field = \"CityName\"\n",
    "imported_table = f\"{gdb}\\\\{qtr}_Cities\"\n",
    "join_field = \"CityName\"\n",
    "fields = field_name\n",
    "arcpy.management.JoinField(texas_cities, in_field, imported_table, join_field, fields)"
   ]
  },
  {
   "cell_type": "code",
   "execution_count": 93,
   "metadata": {},
   "outputs": [
    {
     "name": "stdout",
     "output_type": "stream",
     "text": [
      "Number of cities in the Imported Table: 73\n",
      "Number of cities in the Texas_Places_WithCounties: 73\n",
      "Continue onto the next step\n"
     ]
    }
   ],
   "source": [
    "arcpy.management.SelectLayerByAttribute(imported_table, \"NEW_SELECTION\", f\"{fields} = 0\")\n",
    "num_cities_intable = int(arcpy.management.GetCount(imported_table)[0])\n",
    "print(f\"Number of cities in the Imported Table: {num_cities_intable}\")\n",
    "arcpy.management.SelectLayerByAttribute(imported_table, \"CLEAR_SELECTION\")\n",
    "\n",
    "arcpy.management.SelectLayerByAttribute(cities, \"NEW_SELECTION\", f\"{field_name} = 0\")\n",
    "num_cities_incities = int(arcpy.management.GetCount(cities)[0])\n",
    "print(f\"Number of cities in the Texas_Places_WithCounties: {num_cities_incities}\")\n",
    "arcpy.management.SelectLayerByAttribute(cities, \"CLEAR_SELECTION\")\n",
    "\n",
    "if num_cities_intable != num_cities_incities:\n",
    "    print(\"There is something wrong. The number of cities in the imported table and the feature layer do not match.\")\n",
    "else:\n",
    "    print(\"Continue onto the next step\")"
   ]
  },
  {
   "cell_type": "code",
   "execution_count": 94,
   "metadata": {},
   "outputs": [
    {
     "name": "stdout",
     "output_type": "stream",
     "text": [
      "Number of cities in the Texas_Places_WithCounties: 73\n",
      "Geometry attributes calculated successfully.\n"
     ]
    }
   ],
   "source": [
    "arcpy.management.SelectLayerByAttribute(cities, \"NEW_SELECTION\", f\"{field_name} = 0\")\n",
    "num_cities_incities = int(arcpy.management.GetCount(cities)[0])\n",
    "print(f\"Number of cities in the Texas_Places_WithCounties: {num_cities_incities}\")\n",
    "\n",
    "\n",
    "length_unit = \"MILES_US\"\n",
    "area_unit = \"ACRES_US\"\n",
    "\n",
    "# Define the WKID (Well-Known ID) of the coordinate system you want to use\n",
    "wkid = 3665  # Example: WGS 1984 Geographic Coordinate System\n",
    "\n",
    "try:\n",
    "    # Create a spatial reference object using the specified WKID\n",
    "    spatial_ref = arcpy.SpatialReference(3665)\n",
    "\n",
    "    # Calculate geometry attributes with specified coordinate system and units\n",
    "    arcpy.management.CalculateGeometryAttributes(cities,\n",
    "                                                 [[field_name, \"AREA_GEODESIC\"]],\n",
    "                                                 length_unit, area_unit,\n",
    "                                                 spatial_ref)\n",
    "\n",
    "    print(\"Geometry attributes calculated successfully.\")\n",
    "\n",
    "except arcpy.ExecuteError as e:\n",
    "    print(f\"ExecuteError: {e}\")\n",
    "except Exception as e:\n",
    "    print(f\"Error occurred: {e}\")"
   ]
  },
  {
   "cell_type": "code",
   "execution_count": 95,
   "metadata": {},
   "outputs": [
    {
     "data": {
      "text/html": [
       "<div class='gpresult'><h2>Messages</h2><div id='messages'>Start Time: Wednesday, September 11, 2024 12:07:55 PM<br>Succeeded at Wednesday, September 11, 2024 12:07:55 PM (Elapsed Time: 0.78 seconds)<br></div><div id = 'default' /></div></div>"
      ],
      "text/plain": [
       "<Result 'D:\\\\ArcGIS_Projects\\\\FRDAccomplishments\\\\FRDAccomplishments.gdb\\\\Q4_2024_CommunityAcres2'>"
      ]
     },
     "execution_count": 95,
     "metadata": {},
     "output_type": "execute_result"
    }
   ],
   "source": [
    "community_acres = f\"{gdb}\\\\{qtr}_CommunityAcres2\"\n",
    "arcpy.analysis.Statistics(cities, community_acres, [[field_name, \"SUM\"]])\n",
    "arcpy.management.SelectLayerByAttribute(cities, \"CLEAR_SELECTION\")"
   ]
  }
 ],
 "metadata": {
  "kernelspec": {
   "display_name": "ArcGISPro",
   "language": "Python",
   "name": "python3"
  },
  "language_info": {
   "file_extension": ".py",
   "name": "python",
   "version": "3"
  }
 },
 "nbformat": 4,
 "nbformat_minor": 2
}
