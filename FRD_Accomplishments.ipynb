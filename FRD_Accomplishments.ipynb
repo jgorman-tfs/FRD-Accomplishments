{
 "cells": [
  {
   "cell_type": "markdown",
   "metadata": {},
   "source": [
    "# FRD Accomplishments Script\n",
    "# Read the README File in Github for more detailed information.  https://github.com/jgorman-tfs/FRD-Accomplishments <br> \n",
    "# Data Source: "
   ]
  },
  {
   "cell_type": "markdown",
   "metadata": {},
   "source": [
    "## Set you folder paths and qtr name here"
   ]
  },
  {
   "cell_type": "code",
   "execution_count": null,
   "metadata": {},
   "outputs": [],
   "source": [
    "#Part 1 Initialization\n",
    "\n",
    "#Quarter and fiscal year\n",
    "qtr = \"Q4_2024\"\n",
    "#Set folder path to new quarter folder\n",
    "folder_path = r'D:\\ArcGIS_Projects\\FRDAccomplishments\\FY2024Q4'\n",
    "#Set the geodatabase path\n",
    "gdb = r'D:\\ArcGIS_Projects\\FRDAccomplishments\\FRDAccomplishments.gdb'\n",
    "#This shapefile is provided in sharepoint. If your using your own, you MUST calculate a new field with the County names of each city.\n",
    "cities = \"Texas_Places_WithCounties\"\n",
    "#Path to the excel file provided by Mac\n",
    "excel_path = r\"D:\\ArcGIS_Projects\\FRDAccomplishments\\FY2024Q4\\MAM_UCF_Copy.xls\"\n",
    "#Sheet name of said excel file that has the edited data\n",
    "sheet_name = \"CountyFinder2\"\n",
    "#This is a temperory csv, it doesn't really matter where it goes\n",
    "output_path = os.path.join(r'D:\\ArcGIS_Projects\\FRDAccomplishments', 'temp.csv')\n",
    "#Name of yout county layer in the geodatabase\n",
    "counties_template = \"Template\"\n",
    "\n",
    "#Part 2 Initialization\n",
    "#Path to excel file recieved from Brad\n",
    "excel_path_Brad = r'D:\\ArcGIS_Projects\\FRDAccomplishments\\FY2024Q4\\CountyAccomplishments_FromBrad_FY24Q3_Original.csv'\n",
    "#Sheet names of edited data from Mac\n",
    "sheet_name_ELMR = \"CountyFinder1\"\n",
    "sheet_name_SPAM = \"CountyFinder2\"\n",
    "\n",
    "ELMR_accomp_temp = os.path.join(folder_path, 'ELMR_accomp_temp.csv')\n",
    "SPAM_accomp_temp = os.path.join(folder_path, 'SPAM_accomp_temp.csv')"
   ]
  },
  {
   "cell_type": "markdown",
   "metadata": {},
   "source": [
    "## Part 1: Find the Acres for Urban and Forestry Communities Served"
   ]
  },
  {
   "cell_type": "markdown",
   "metadata": {},
   "source": [
    "Change the name of the qtr variable to the current quarter and fiscal year and change the path to the right excel file. Ensure the other variables are pointing to the correct folders. It is best to use the Texas_Places_WithCounties from my sharepoint. If you want to create your own, **make sure you add a field called \"Testing\" and set the values equal to 1.**"
   ]
  },
  {
   "cell_type": "code",
   "execution_count": 3,
   "metadata": {},
   "outputs": [
    {
     "name": "stdout",
     "output_type": "stream",
     "text": [
      "old column headers: ['PlaceName', 'AssistTypeName', 'Category']\n",
      "     CityName                     AssistType                Category\n",
      "0      Austin  Arbor Day/Tree City USA Event  Conservation Education\n",
      "1       Hutto  Arbor Day/Tree City USA Event  Conservation Education\n",
      "2  San Marcos  Arbor Day/Tree City USA Event  Conservation Education\n",
      "3      Hudson  Arbor Day/Tree City USA Event  Conservation Education\n",
      "4  Huntsville  Arbor Day/Tree City USA Event  Conservation Education\n"
     ]
    }
   ],
   "source": [
    "# Import necessary packages\n",
    "import pandas as pd\n",
    "\n",
    "# Create a new map with the name as the variable\n",
    "aprx = arcpy.mp.ArcGISProject(\"CURRENT\")\n",
    "new_map = aprx.createMap(qtr, \"MAP\")\n",
    "aprx.save()\n",
    "\n",
    "# Import a table from an Excel file\n",
    "\n",
    "df = pd.read_excel(excel_path, sheet_name=sheet_name)\n",
    "\n",
    "\n",
    "old_column_list = df.columns.tolist()\n",
    "\n",
    "print(\"old column headers:\", old_column_list)\n",
    "new_column_names = {\n",
    "    old_column_list[0]: \"CityName\",\n",
    "    old_column_list[1]: \"AssistType\",\n",
    "    old_column_list[2]: \"Category\"\n",
    "}\n",
    "df.rename(columns=new_column_names, inplace=True)\n",
    "print(df.head(5))"
   ]
  },
  {
   "cell_type": "markdown",
   "metadata": {},
   "source": [
    "Import the table into your gdb"
   ]
  },
  {
   "cell_type": "code",
   "execution_count": 3,
   "metadata": {},
   "outputs": [
    {
     "name": "stdout",
     "output_type": "stream",
     "text": [
      "Excel file saved to: D:\\ArcGIS_Projects\\FRDAccomplishments\\temp.csv\n"
     ]
    },
    {
     "data": {
      "text/html": [
       "<div class='gpresult'><h2>Messages</h2><div id='messages'>Start Time: Monday, June 17, 2024 1:38:28 PM<br>Succeeded at Monday, June 17, 2024 1:38:29 PM (Elapsed Time: 1.09 seconds)<br></div><div id = 'default' /></div></div>"
      ],
      "text/plain": [
       "<Result 'D:\\\\ArcGIS_Projects\\\\FRDAccomplishments\\\\FRDAccomplishments.gdb\\\\Q4_2024_Cities'>"
      ]
     },
     "execution_count": 3,
     "metadata": {},
     "output_type": "execute_result"
    }
   ],
   "source": [
    "import os\n",
    "\n",
    "# Convert the DataFrame to an Excel file\n",
    "df.to_csv(output_path, index=False)\n",
    "\n",
    "print(f\"Excel file saved to: {output_path}\")\n",
    "arcpy.TableToTable_conversion(output_path, gdb, f\"{qtr}_Cities\")"
   ]
  },
  {
   "cell_type": "markdown",
   "metadata": {},
   "source": [
    "Join fields from Texas_Places_WithCounties into your newly imported table. This will let you figure out which cities need to be fixed."
   ]
  },
  {
   "cell_type": "code",
   "execution_count": 4,
   "metadata": {},
   "outputs": [
    {
     "data": {
      "text/html": [
       "<div class='gpresult'><h2>Messages</h2><div id='messages'>Start Time: Monday, June 17, 2024 1:48:16 PM<br>Succeeded at Monday, June 17, 2024 1:48:17 PM (Elapsed Time: 1.10 seconds)<br></div><div id = 'default' /></div></div>"
      ],
      "text/plain": [
       "<Result 'D:\\\\ArcGIS_Projects\\\\FRDAccomplishments\\\\FRDAccomplishments.gdb\\\\Q4_2024_Cities'>"
      ]
     },
     "execution_count": 4,
     "metadata": {},
     "output_type": "execute_result"
    }
   ],
   "source": [
    "# Join field from copied feature to the imported table\n",
    "in_data = f\"{gdb}\\\\{qtr}_Cities\"\n",
    "in_field = \"CityName\"\n",
    "join_table = f\"{gdb}\\\\{cities}\"\n",
    "join_field = \"CityName\"\n",
    "fields = \"Testing\"\n",
    "arcpy.management.JoinField(in_data, in_field, join_table, join_field, fields)"
   ]
  },
  {
   "cell_type": "markdown",
   "metadata": {},
   "source": [
    "### After running the above code, you will likely have some null values in the Testing column. This is because the cities aren't matching up with the Texas_Places_WithCounties for various reasons. Figure out why and edit the names so they match up with your imported table. Delete the Testing column in the imported table, and re run the above section of code until you do not have any null values. "
   ]
  },
  {
   "cell_type": "markdown",
   "metadata": {},
   "source": [
    "Create a new field in the table that will be used to calculate acres"
   ]
  },
  {
   "cell_type": "code",
   "execution_count": 6,
   "metadata": {
    "scrolled": true
   },
   "outputs": [
    {
     "data": {
      "text/html": [
       "<div class='gpresult'><h2>Messages</h2><div id='messages'>Start Time: Monday, June 17, 2024 1:49:15 PM<br>Adding Q4_2024_Acres to Q4_2024_Cities...<br>Succeeded at Monday, June 17, 2024 1:49:15 PM (Elapsed Time: 0.31 seconds)<br></div><div id = 'default' /></div></div>"
      ],
      "text/plain": [
       "<Result 'D:\\\\ArcGIS_Projects\\\\FRDAccomplishments\\\\FRDAccomplishments.gdb\\\\Q4_2024_Cities'>"
      ]
     },
     "execution_count": 6,
     "metadata": {},
     "output_type": "execute_result"
    }
   ],
   "source": [
    "in_table = f\"{gdb}\\\\{qtr}_Cities\"\n",
    "field_name = f\"{qtr}_Acres\"\n",
    "field_type = \"FLOAT\"\n",
    "field_precision = 2\n",
    "arcpy.management.AddField(in_table, field_name, field_type, field_precision)"
   ]
  },
  {
   "cell_type": "markdown",
   "metadata": {},
   "source": [
    "Set field to 0"
   ]
  },
  {
   "cell_type": "code",
   "execution_count": 7,
   "metadata": {},
   "outputs": [
    {
     "data": {
      "text/html": [
       "<div class='gpresult'><h2>Messages</h2><div id='messages'>Start Time: Monday, June 17, 2024 1:49:50 PM<br>Succeeded at Monday, June 17, 2024 1:49:50 PM (Elapsed Time: 0.10 seconds)<br></div><div id = 'default' /></div></div>"
      ],
      "text/plain": [
       "<Result 'D:\\\\ArcGIS_Projects\\\\FRDAccomplishments\\\\FRDAccomplishments.gdb\\\\Q4_2024_Cities'>"
      ]
     },
     "execution_count": 7,
     "metadata": {},
     "output_type": "execute_result"
    }
   ],
   "source": [
    "expression = 0\n",
    "arcpy.management.CalculateField(in_table, field_name, expression)"
   ]
  },
  {
   "cell_type": "markdown",
   "metadata": {},
   "source": [
    "Join fields from table back to city layer"
   ]
  },
  {
   "cell_type": "code",
   "execution_count": 8,
   "metadata": {},
   "outputs": [
    {
     "data": {
      "text/html": [
       "<div class='gpresult'><h2>Messages</h2><div id='messages'>Start Time: Monday, June 17, 2024 1:52:08 PM<br>Succeeded at Monday, June 17, 2024 1:52:09 PM (Elapsed Time: 1.32 seconds)<br></div><div id = 'default' /></div></div>"
      ],
      "text/plain": [
       "<Result 'D:\\\\ArcGIS_Projects\\\\FRDAccomplishments\\\\FRDAccomplishments.gdb\\\\Texas_Places_WithCounties'>"
      ]
     },
     "execution_count": 8,
     "metadata": {},
     "output_type": "execute_result"
    }
   ],
   "source": [
    "texas_cities = f\"{gdb}\\\\{cities}\"\n",
    "in_field = \"CityName\"\n",
    "imported_table = f\"{gdb}\\\\{qtr}_Cities\"\n",
    "join_field = \"CityName\"\n",
    "fields = field_name\n",
    "arcpy.management.JoinField(texas_cities, in_field, imported_table, join_field, fields)"
   ]
  },
  {
   "cell_type": "markdown",
   "metadata": {},
   "source": [
    "The code block below will select features in both the city layer and table to see if the number of cities agree with each other. If they do not agree, you will need to figure out why. "
   ]
  },
  {
   "cell_type": "code",
   "execution_count": 11,
   "metadata": {},
   "outputs": [
    {
     "name": "stdout",
     "output_type": "stream",
     "text": [
      "Number of cities in the Imported Table: 54\n",
      "Number of cities in the Texas_Places_WithCounties: 31\n",
      "There is something wrong. The number of cities in the imported table and the feature layer do not match.\n"
     ]
    }
   ],
   "source": [
    "arcpy.management.SelectLayerByAttribute(imported_table, \"NEW_SELECTION\", f\"{fields} = 0\")\n",
    "num_cities_intable = int(arcpy.management.GetCount(imported_table)[0])\n",
    "print(f\"Number of cities in the Imported Table: {num_cities_intable}\")\n",
    "arcpy.management.SelectLayerByAttribute(imported_table, \"CLEAR_SELECTION\")\n",
    "\n",
    "arcpy.management.SelectLayerByAttribute(cities, \"NEW_SELECTION\", f\"{field_name} = 0\")\n",
    "num_cities_incities = int(arcpy.management.GetCount(cities)[0])\n",
    "print(f\"Number of cities in the Texas_Places_WithCounties: {num_cities_incities}\")\n",
    "arcpy.management.SelectLayerByAttribute(cities, \"CLEAR_SELECTION\")\n",
    "\n",
    "if num_cities_intable != num_cities_incities:\n",
    "    print(\"There is something wrong. The number of cities in the imported table and the feature layer do not match.\")\n",
    "else:\n",
    "    print(\"Continue onto the next step\")"
   ]
  },
  {
   "cell_type": "markdown",
   "metadata": {},
   "source": [
    "The code block below calculates the area of the selected cities. "
   ]
  },
  {
   "cell_type": "code",
   "execution_count": 13,
   "metadata": {},
   "outputs": [
    {
     "name": "stdout",
     "output_type": "stream",
     "text": [
      "Number of cities in the Texas_Places_WithCounties: 31\n",
      "Geometry attributes calculated successfully.\n"
     ]
    }
   ],
   "source": [
    "arcpy.management.SelectLayerByAttribute(cities, \"NEW_SELECTION\", f\"{field_name} = 0\")\n",
    "num_cities_incities = int(arcpy.management.GetCount(cities)[0])\n",
    "print(f\"Number of cities in the Texas_Places_WithCounties: {num_cities_incities}\")\n",
    "\n",
    "\n",
    "length_unit = \"MILES_US\"\n",
    "area_unit = \"ACRES\"\n",
    "\n",
    "# Define the WKID (Well-Known ID) of the coordinate system you want to use\n",
    "wkid = 3665  # Example: WGS 1984 Geographic Coordinate System\n",
    "\n",
    "try:\n",
    "    # Create a spatial reference object using the specified WKID\n",
    "    spatial_ref = arcpy.SpatialReference(3665)\n",
    "\n",
    "    # Calculate geometry attributes with specified coordinate system and units\n",
    "    arcpy.management.CalculateGeometryAttributes(cities,\n",
    "                                                 [[field_name, \"AREA_GEODESIC\"]],\n",
    "                                                 length_unit, area_unit,\n",
    "                                                 spatial_ref)\n",
    "\n",
    "    print(\"Geometry attributes calculated successfully.\")\n",
    "\n",
    "except arcpy.ExecuteError as e:\n",
    "    print(f\"ExecuteError: {e}\")\n",
    "except Exception as e:\n",
    "    print(f\"Error occurred: {e}\")"
   ]
  },
  {
   "cell_type": "markdown",
   "metadata": {},
   "source": [
    "Run Summary Statistics to get the total acerage."
   ]
  },
  {
   "cell_type": "code",
   "execution_count": 16,
   "metadata": {},
   "outputs": [
    {
     "data": {
      "text/html": [
       "<div class='gpresult'><h2>Messages</h2><div id='messages'>Start Time: Monday, June 17, 2024 2:10:04 PM<br>Succeeded at Monday, June 17, 2024 2:10:05 PM (Elapsed Time: 0.86 seconds)<br></div><div id = 'default' /></div></div>"
      ],
      "text/plain": [
       "<Result 'D:\\\\ArcGIS_Projects\\\\FRDAccomplishments\\\\FRDAccomplishments.gdb\\\\Q4_2024_CommunityAcres'>"
      ]
     },
     "execution_count": 16,
     "metadata": {},
     "output_type": "execute_result"
    }
   ],
   "source": [
    "community_acres = f\"{gdb}\\\\{qtr}_CommunityAcres\"\n",
    "arcpy.analysis.Statistics(cities, community_acres, [[field_name, \"SUM\"]])"
   ]
  },
  {
   "cell_type": "markdown",
   "metadata": {},
   "source": [
    "## Part 2: Get the Accomplishments by County"
   ]
  },
  {
   "cell_type": "code",
   "execution_count": 41,
   "metadata": {},
   "outputs": [],
   "source": [
    "#Create a copy of the County Layer that will be used for the map\n",
    "counties_new = f\"{qtr}_Counties\"\n",
    "arcpy.FeatureClassToFeatureClass_conversion(f\"{gdb}\\\\{counties_template}\", gdb, counties_new)"
   ]
  },
  {
   "cell_type": "code",
   "execution_count": 2,
   "metadata": {},
   "outputs": [
    {
     "name": "stdout",
     "output_type": "stream",
     "text": [
      "  CountyName            AssistType                Category\n",
      "0   Anderson   Tree Planting Event    Technical Assistance\n",
      "1   Angelina  UF Individual Assist    Technical Assistance\n",
      "2      Bowie     Arbor Day Program  Conservation Education\n",
      "3      Bowie     Arbor Day Program  Conservation Education\n",
      "4       Cass   Tree Planting Event    Technical Assistance\n",
      "5      Gregg  UF Individual Assist    Technical Assistance\n",
      "     CityName                     AssistType                Category\n",
      "0      Austin  Arbor Day/Tree City USA Event  Conservation Education\n",
      "1       Hutto  Arbor Day/Tree City USA Event  Conservation Education\n",
      "2  San Marcos  Arbor Day/Tree City USA Event  Conservation Education\n",
      "3      Hudson  Arbor Day/Tree City USA Event  Conservation Education\n",
      "4  Huntsville  Arbor Day/Tree City USA Event  Conservation Education\n",
      "5      Lufkin  Arbor Day/Tree City USA Event  Conservation Education\n"
     ]
    }
   ],
   "source": [
    "import pandas as pd\n",
    "from openpyxl import load_workbook\n",
    "\n",
    "accomp_from_ELMR_df = pd.read_excel(excel_path, sheet_name=sheet_name_ELMR)\n",
    "\n",
    "accomp_from_SPAM_df = pd.read_excel(excel_path, sheet_name=sheet_name_SPAM)\n",
    "\n",
    "\n",
    "old_column_list_ELMR = accomp_from_ELMR_df.columns.tolist()\n",
    "old_column_list_SPAM = accomp_from_SPAM_df.columns.tolist()\n",
    "\n",
    "new_column_names_ELMR = {\n",
    "    old_column_list_ELMR[0]: \"CountyName\",\n",
    "    old_column_list_ELMR[1]: \"AssistType\",\n",
    "    old_column_list_ELMR[2]: \"Category\"\n",
    "}\n",
    "accomp_from_ELMR_df.rename(columns=new_column_names_ELMR, inplace=True)\n",
    "print(accomp_from_ELMR_df.head(6))\n",
    "\n",
    "new_column_names_SPAM = {\n",
    "    old_column_list_SPAM[0]: \"CityName\",\n",
    "    old_column_list_SPAM[1]: \"AssistType\",\n",
    "    old_column_list_SPAM[2]: \"Category\"\n",
    "}\n",
    "accomp_from_SPAM_df.rename(columns=new_column_names_SPAM, inplace=True)\n",
    "print(accomp_from_SPAM_df.head(6))"
   ]
  },
  {
   "cell_type": "code",
   "execution_count": 3,
   "metadata": {},
   "outputs": [
    {
     "data": {
      "text/html": [
       "<div class='gpresult'><h2>Messages</h2><div id='messages'>Start Time: Monday, June 17, 2024 4:15:58 PM<br>Succeeded at Monday, June 17, 2024 4:15:59 PM (Elapsed Time: 0.52 seconds)<br></div><div id = 'default' /></div></div>"
      ],
      "text/plain": [
       "<Result 'D:\\\\ArcGIS_Projects\\\\FRDAccomplishments\\\\FRDAccomplishments.gdb\\\\Q4_2024_Counties_FromBrad'>"
      ]
     },
     "execution_count": 3,
     "metadata": {},
     "output_type": "execute_result"
    }
   ],
   "source": [
    "import os\n",
    "ELMR_accomp_temp = os.path.join(folder_path, 'ELMR_accomp_temp.csv')\n",
    "SPAM_accomp_temp = os.path.join(folder_path, 'SPAM_accomp_temp.csv')\n",
    "# Convert the DataFrame to an Excel file\n",
    "accomp_from_ELMR_df.to_csv(ELMR_accomp_temp, index=False)\n",
    "accomp_from_SPAM_df.to_csv(SPAM_accomp_temp, index=False)\n",
    "\n",
    "arcpy.TableToTable_conversion(ELMR_accomp_temp, gdb, f\"{qtr}_Counties_FromELMR\")\n",
    "arcpy.TableToTable_conversion(SPAM_accomp_temp, gdb, f\"{qtr}_Cities_FromSPAM\")\n",
    "arcpy.TableToTable_conversion(accomp_from_Brad, gdb, f\"{qtr}_Counties_FromBrad\")"
   ]
  },
  {
   "cell_type": "code",
   "execution_count": 6,
   "metadata": {},
   "outputs": [
    {
     "data": {
      "text/html": [
       "<div class='gpresult'><h2>Messages</h2><div id='messages'>Start Time: Monday, June 17, 2024 4:21:18 PM<br>Succeeded at Monday, June 17, 2024 4:21:19 PM (Elapsed Time: 1.24 seconds)<br></div><div id = 'default' /></div></div>"
      ],
      "text/plain": [
       "<Result 'D:\\\\ArcGIS_Projects\\\\FRDAccomplishments\\\\FRDAccomplishments.gdb\\\\Q4_2024_Cities_FromSPAM'>"
      ]
     },
     "execution_count": 6,
     "metadata": {},
     "output_type": "execute_result"
    }
   ],
   "source": [
    "in_data = f\"{gdb}\\\\{qtr}_Cities_FromSPAM\"\n",
    "in_field = \"CityName\"\n",
    "join_table = f\"{gdb}\\\\{cities}\"\n",
    "join_field = \"CityName\"\n",
    "fields = \"CountyName\"\n",
    "arcpy.management.JoinField(in_data, in_field, join_table, join_field, fields)"
   ]
  },
  {
   "cell_type": "code",
   "execution_count": 8,
   "metadata": {},
   "outputs": [
    {
     "data": {
      "text/html": [
       "<div class='gpresult'><h2>Messages</h2><div id='messages'>Start Time: Monday, June 17, 2024 4:30:00 PM<br>Succeeded at Monday, June 17, 2024 4:30:00 PM (Elapsed Time: 0.62 seconds)<br></div><div id = 'default' /></div></div>"
      ],
      "text/plain": [
       "<Result 'D:\\\\ArcGIS_Projects\\\\FRDAccomplishments\\\\FRDAccomplishments.gdb\\\\Q4_2024_Counties_FromUCF_Merge'>"
      ]
     },
     "execution_count": 8,
     "metadata": {},
     "output_type": "execute_result"
    }
   ],
   "source": [
    "inputs = [f\"{gdb}\\\\{qtr}_Cities_FromSPAM\", f\"{gdb}\\\\{qtr}_Counties_FromELMR\" ]\n",
    "output = f\"{gdb}\\\\{qtr}_Counties_FromUCF_Merge\"\n",
    "arcpy.management.Merge(inputs, output)"
   ]
  },
  {
   "cell_type": "code",
   "execution_count": 9,
   "metadata": {},
   "outputs": [
    {
     "data": {
      "text/html": [
       "<div class='gpresult'><h2>Messages</h2><div id='messages'>Start Time: Monday, June 17, 2024 4:30:09 PM<br>Succeeded at Monday, June 17, 2024 4:30:10 PM (Elapsed Time: 0.42 seconds)<br></div><div id = 'default' /></div></div>"
      ],
      "text/plain": [
       "<Result 'D:\\\\ArcGIS_Projects\\\\FRDAccomplishments\\\\FRDAccomplishments.gdb\\\\Q4_2024_Counties_FromUCF'>"
      ]
     },
     "execution_count": 9,
     "metadata": {},
     "output_type": "execute_result"
    }
   ],
   "source": [
    "output_table = f\"{gdb}\\\\{qtr}_Counties_FromUCF\"\n",
    "arcpy.analysis.Statistics(output, output_table, [[\"CountyName\", \"COUNT\"]], [\"Category\", \"CountyName\"])"
   ]
  },
  {
   "cell_type": "code",
   "execution_count": 8,
   "metadata": {},
   "outputs": [
    {
     "data": {
      "text/html": [
       "<div class='gpresult'><h2>Messages</h2><div id='messages'>Start Time: Thursday, June 20, 2024 8:55:59 AM<br>Succeeded at Thursday, June 20, 2024 8:55:59 AM (Elapsed Time: 0.02 seconds)<br></div><div id = 'default' /></div></div>"
      ],
      "text/plain": [
       "<Result 'Q4_2024_Counties_FromBrad'>"
      ]
     },
     "execution_count": 8,
     "metadata": {},
     "output_type": "execute_result"
    }
   ],
   "source": [
    "arcpy.management.SelectLayerByAttribute(f\"{qtr}_Counties_FromBrad\", \"NEW_SELECTION\", \"Conservation_Education IS NULL\")\n",
    "arcpy.management.CalculateField(f\"{qtr}_Counties_FromBrad\", \"Conservation_Education\", 0 )\n",
    "\n",
    "arcpy.management.SelectLayerByAttribute(f\"{qtr}_Counties_FromBrad\", \"NEW_SELECTION\", \"Management_Plans IS NULL\")\n",
    "arcpy.management.CalculateField(f\"{qtr}_Counties_FromBrad\", \"Management_Plans\", 0 )\n",
    "\n",
    "arcpy.management.SelectLayerByAttribute(f\"{qtr}_Counties_FromBrad\", \"NEW_SELECTION\", \"Technical_Assistance IS NULL\")\n",
    "arcpy.management.CalculateField(f\"{qtr}_Counties_FromBrad\", \"Technical_Assistance\", 0 )\n",
    "\n",
    "arcpy.management.SelectLayerByAttribute(f\"{qtr}_Counties_FromBrad\", \"NEW_SELECTION\", \"FIA_Plots IS NULL\")\n",
    "arcpy.management.CalculateField(f\"{qtr}_Counties_FromBrad\", \"FIA_Plots\", 0 )\n",
    "\n",
    "arcpy.management.SelectLayerByAttribute(f\"{qtr}_Counties_FromBrad\", \"CLEAR_SELECTION\")\n"
   ]
  },
  {
   "cell_type": "code",
   "execution_count": 16,
   "metadata": {},
   "outputs": [
    {
     "data": {
      "text/html": [
       "<div class='gpresult'><h2>Messages</h2><div id='messages'>Start Time: Thursday, June 20, 2024 9:18:56 AM<br>Succeeded at Thursday, June 20, 2024 9:18:58 AM (Elapsed Time: 2.04 seconds)<br></div><div id = 'default' /></div></div>"
      ],
      "text/plain": [
       "<Result 'Q4_2024_Counties_FromUCF'>"
      ]
     },
     "execution_count": 16,
     "metadata": {},
     "output_type": "execute_result"
    }
   ],
   "source": [
    "arcpy.management.AddFields(f\"{qtr}_Counties_FromBrad\", [\"CountyChecker\", \"SHORT\"])\n",
    "arcpy.management.CalculateField(f\"{qtr}_Counties_FromBrad\", \"CountyChecker\", 0 )\n",
    "arcpy.management.JoinField(f\"{qtr}_Counties_FromUCF\", \"CountyName\", f\"{qtr}_Counties_FromBrad\" , \"CountyName\", \"CountyChecker\")\n",
    "\n"
   ]
  },
  {
   "cell_type": "code",
   "execution_count": 24,
   "metadata": {},
   "outputs": [
    {
     "name": "stdout",
     "output_type": "stream",
     "text": [
      "All counties match, proceed to next step\n"
     ]
    }
   ],
   "source": [
    "null_count = 0\n",
    "with arcpy.da.SearchCursor(f\"{qtr}_Counties_FromUCF\", [\"CountyChecker\"]) as cursor:\n",
    "    for row in cursor:\n",
    "            # Check if the field value is None (NULL in ArcGIS)\n",
    "        if row[0] is None:\n",
    "            null_count += 1\n",
    "    \n",
    "if null_count == 0:\n",
    "    print(\"All counties match, proceed to next step\")\n",
    "else:\n",
    "    print(f\"WAIT! There are {null_count} counties that are not matched in the UCF table. Go back and fix before proceeding.\")"
   ]
  },
  {
   "cell_type": "code",
   "execution_count": 28,
   "metadata": {},
   "outputs": [
    {
     "data": {
      "text/html": [
       "<div class='gpresult'><h2>Messages</h2><div id='messages'>Start Time: Thursday, June 20, 2024 9:35:21 AM<br>Succeeded at Thursday, June 20, 2024 9:35:21 AM (Elapsed Time: 0.02 seconds)<br></div><div id = 'default' /></div></div>"
      ],
      "text/plain": [
       "<Result 'Q4_2024_Counties_FromUCF'>"
      ]
     },
     "execution_count": 28,
     "metadata": {},
     "output_type": "execute_result"
    }
   ],
   "source": [
    "arcpy.management.AddFields(f\"{qtr}_Counties_FromUCF\", [\"Conservation_Education_UCF\", \"Technical_Assistance_UCF\"])"
   ]
  },
  {
   "cell_type": "code",
   "execution_count": 31,
   "metadata": {},
   "outputs": [
    {
     "data": {
      "text/html": [
       "<div class='gpresult'><h2>Messages</h2><div id='messages'>Start Time: Thursday, June 20, 2024 9:40:28 AM<br>Succeeded at Thursday, June 20, 2024 9:40:28 AM (Elapsed Time: 0.20 seconds)<br></div><div id = 'default' /></div></div>"
      ],
      "text/plain": [
       "<Result 'Q4_2024_Counties_FromUCF'>"
      ]
     },
     "execution_count": 31,
     "metadata": {},
     "output_type": "execute_result"
    }
   ],
   "source": [
    "arcpy.management.SelectLayerByAttribute(f\"{qtr}_Counties_FromUCF\", \"NEW_SELECTION\", \"Category = 'Conservation Education'\")\n",
    "arcpy.management.CalculateField(f\"{qtr}_Counties_FromUCF\", \"Conservation_Education_UCF\", 0 )\n",
    "arcpy.management.CalculateField(f\"{qtr}_Counties_FromUCF\", \"Conservation_Education_UCF\", \"!COUNT_CountyName!\" )\n",
    "arcpy.management.JoinField(f\"{qtr}_Counties_FromBrad\", \"CountyName\", f\"{qtr}_Counties_FromUCF\" , \"CountyName\", \"Conservation_Education_UCF\")"
   ]
  },
  {
   "cell_type": "code",
   "execution_count": 33,
   "metadata": {},
   "outputs": [
    {
     "data": {
      "text/html": [
       "<div class='gpresult'><h2>Messages</h2><div id='messages'>Start Time: Thursday, June 20, 2024 9:44:01 AM<br>Succeeded at Thursday, June 20, 2024 9:44:03 AM (Elapsed Time: 1.59 seconds)<br></div><div id = 'default' /></div></div>"
      ],
      "text/plain": [
       "<Result 'Q4_2024_Counties_FromBrad'>"
      ]
     },
     "execution_count": 33,
     "metadata": {},
     "output_type": "execute_result"
    }
   ],
   "source": [
    "arcpy.management.SelectLayerByAttribute(f\"{qtr}_Counties_FromUCF\", \"NEW_SELECTION\", \"Category = 'Technical Assistance'\")\n",
    "arcpy.management.CalculateField(f\"{qtr}_Counties_FromUCF\", \"Technical_Assistance_UCF\", 0 )\n",
    "arcpy.management.CalculateField(f\"{qtr}_Counties_FromUCF\", \"Technical_Assistance_UCF\", \"!COUNT_CountyName!\" )\n",
    "arcpy.management.JoinField(f\"{qtr}_Counties_FromBrad\", \"CountyName\", f\"{qtr}_Counties_FromUCF\" , \"CountyName\", \"Technical_Assistance_UCF\")"
   ]
  },
  {
   "cell_type": "code",
   "execution_count": 34,
   "metadata": {},
   "outputs": [
    {
     "data": {
      "text/html": [
       "<div class='gpresult'><h2>Messages</h2><div id='messages'>Start Time: Thursday, June 20, 2024 9:45:50 AM<br>Succeeded at Thursday, June 20, 2024 9:45:50 AM (Elapsed Time: 0.02 seconds)<br></div><div id = 'default' /></div></div>"
      ],
      "text/plain": [
       "<Result 'Q4_2024_Counties_FromUCF'>"
      ]
     },
     "execution_count": 34,
     "metadata": {},
     "output_type": "execute_result"
    }
   ],
   "source": [
    "arcpy.management.SelectLayerByAttribute(f\"{qtr}_Counties_FromUCF\", \"CLEAR_SELECTION\")"
   ]
  },
  {
   "cell_type": "code",
   "execution_count": 38,
   "metadata": {},
   "outputs": [
    {
     "data": {
      "text/html": [
       "<div class='gpresult'><h2>Messages</h2><div id='messages'>Start Time: Thursday, June 20, 2024 9:52:49 AM<br>Succeeded at Thursday, June 20, 2024 9:52:49 AM (Elapsed Time: 0.02 seconds)<br></div><div id = 'default' /></div></div>"
      ],
      "text/plain": [
       "<Result 'Q4_2024_Counties_FromBrad'>"
      ]
     },
     "execution_count": 38,
     "metadata": {},
     "output_type": "execute_result"
    }
   ],
   "source": [
    "arcpy.management.SelectLayerByAttribute(f\"{qtr}_Counties_FromBrad\", \"NEW_SELECTION\", \"Technical_Assistance_UCF IS NULL\")\n",
    "arcpy.management.CalculateField(f\"{qtr}_Counties_FromBrad\", \"Technical_Assistance_UCF\", 0 )\n",
    "arcpy.management.SelectLayerByAttribute(f\"{qtr}_Counties_FromBrad\", \"NEW_SELECTION\", \"Conservation_Education_UCF IS NULL\")\n",
    "arcpy.management.CalculateField(f\"{qtr}_Counties_FromBrad\", \"Conservation_Education_UCF\", 0 )\n",
    "arcpy.management.SelectLayerByAttribute(f\"{qtr}_Counties_FromBrad\", \"CLEAR_SELECTION\")"
   ]
  },
  {
   "cell_type": "code",
   "execution_count": 39,
   "metadata": {},
   "outputs": [
    {
     "data": {
      "text/html": [
       "<div class='gpresult'><h2>Messages</h2><div id='messages'>Start Time: Thursday, June 20, 2024 9:54:20 AM<br>Succeeded at Thursday, June 20, 2024 9:54:20 AM (Elapsed Time: 0.22 seconds)<br></div><div id = 'default' /></div></div>"
      ],
      "text/plain": [
       "<Result 'Q4_2024_Counties_FromBrad'>"
      ]
     },
     "execution_count": 39,
     "metadata": {},
     "output_type": "execute_result"
    }
   ],
   "source": [
    "arcpy.management.AddFields(f\"{qtr}_Counties_FromBrad\", [\"Conservation_Education_Total\", \"Technical_Assistance_Total\"])\n",
    "arcpy.management.CalculateField(f\"{qtr}_Counties_FromBrad\", \"Conservation_Education_Total\", 0)\n",
    "arcpy.management.CalculateField(f\"{qtr}_Counties_FromBrad\", \"Technical_Assistance_Total\", 0)"
   ]
  },
  {
   "cell_type": "code",
   "execution_count": 40,
   "metadata": {},
   "outputs": [
    {
     "data": {
      "text/html": [
       "<div class='gpresult'><h2>Messages</h2><div id='messages'>Start Time: Thursday, June 20, 2024 9:57:34 AM<br>Succeeded at Thursday, June 20, 2024 9:57:35 AM (Elapsed Time: 0.23 seconds)<br></div><div id = 'default' /></div></div>"
      ],
      "text/plain": [
       "<Result 'Q4_2024_Counties_FromBrad'>"
      ]
     },
     "execution_count": 40,
     "metadata": {},
     "output_type": "execute_result"
    }
   ],
   "source": [
    "arcpy.management.CalculateField(f\"{qtr}_Counties_FromBrad\", \"Conservation_Education_Total\", \"!Conservation_Education! + !Conservation_Education_UCF!\")\n",
    "arcpy.management.CalculateField(f\"{qtr}_Counties_FromBrad\", \"Technical_Assistance_Total\", \"!Technical_Assistance! + !Technical_Assistance_UCF!\")"
   ]
  },
  {
   "cell_type": "code",
   "execution_count": 45,
   "metadata": {},
   "outputs": [
    {
     "data": {
      "text/html": [
       "<div class='gpresult'><h2>Messages</h2><div id='messages'>Start Time: Thursday, June 20, 2024 10:26:20 AM<br>Succeeded at Thursday, June 20, 2024 10:26:21 AM (Elapsed Time: 1.22 seconds)<br></div><div id = 'default' /></div></div>"
      ],
      "text/plain": [
       "<Result 'Q4_2024_Counties'>"
      ]
     },
     "execution_count": 45,
     "metadata": {},
     "output_type": "execute_result"
    }
   ],
   "source": [
    "arcpy.management.JoinField(counties_new, \n",
    "                           \"CountyName\", \n",
    "                           f\"{qtr}_Counties_FromBrad\" , \n",
    "                           \"CountyName\", \n",
    "                           \"CountyChecker\")"
   ]
  },
  {
   "cell_type": "code",
   "execution_count": 46,
   "metadata": {},
   "outputs": [
    {
     "name": "stdout",
     "output_type": "stream",
     "text": [
      "WAIT! There are 1 counties that are not matched in the UCF table. Go back and fix before proceeding.\n"
     ]
    }
   ],
   "source": [
    "null_count = 0\n",
    "with arcpy.da.SearchCursor(counties_new, [\"CountyChecker\"]) as cursor:\n",
    "    for row in cursor:\n",
    "            # Check if the field value is None (NULL in ArcGIS)\n",
    "        if row[0] is None:\n",
    "            null_count += 1\n",
    "    \n",
    "if null_count == 0:\n",
    "    print(\"All counties match, proceed to next step\")\n",
    "else:\n",
    "    print(f\"WAIT! There are {null_count} counties that are not matched in the UCF table. Go back and fix before proceeding.\")"
   ]
  },
  {
   "cell_type": "code",
   "execution_count": 48,
   "metadata": {},
   "outputs": [
    {
     "data": {
      "text/html": [
       "<div class='gpresult'><h2>Messages</h2><div id='messages'>Start Time: Thursday, June 20, 2024 10:31:15 AM<br>Succeeded at Thursday, June 20, 2024 10:31:17 AM (Elapsed Time: 2.10 seconds)<br></div><div id = 'default' /></div></div>"
      ],
      "text/plain": [
       "<Result 'Q4_2024_Counties'>"
      ]
     },
     "execution_count": 48,
     "metadata": {},
     "output_type": "execute_result"
    }
   ],
   "source": [
    "arcpy.management.JoinField(counties_new, \n",
    "                           \"CountyName\", \n",
    "                           f\"{qtr}_Counties_FromBrad\" , \n",
    "                           \"CountyName\", \n",
    "                           [\"FIA_Plots\", \"Management_Plans\", \"Conservation_Education_Total\", \"Technical_Assistance_Total\"])"
   ]
  },
  {
   "cell_type": "code",
   "execution_count": null,
   "metadata": {},
   "outputs": [],
   "source": []
  }
 ],
 "metadata": {
  "celltoolbar": "Raw Cell Format",
  "kernelspec": {
   "display_name": "ArcGISPro",
   "language": "Python",
   "name": "python3"
  },
  "language_info": {
   "file_extension": ".py",
   "name": "python",
   "version": "3"
  }
 },
 "nbformat": 4,
 "nbformat_minor": 2
}
