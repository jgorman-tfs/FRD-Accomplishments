{
 "cells": [
  {
   "cell_type": "markdown",
   "metadata": {},
   "source": [
    "# FRD Accomplishments Script <br>\n",
    "## This goal of this script is to get the total accomplishments for each category for each county using the ELMR report and UCF Report. The ELMR report is generated through microsoft access, and the UCF report is from Mac. <br>\n",
    "### Read the README File in Github for more detailed information.  https://github.com/jgorman-tfs/FRD-Accomplishments"
   ]
  },
  {
   "cell_type": "markdown",
   "metadata": {},
   "source": [
    "## Before you do prodeed, ensure you have done the following:\n",
    "1. Import the new FIA report into the Microsoft Access Database\n",
    "2. Generate the report\n",
    "3. Clean the UCF Report, creating two new sheets for the ELMR and SPAM sheets. They should have 3 columns: City or County Name, Assist Type, and Category.\n",
    "## Set you folder paths and qtr name here. You should not need to change anything else."
   ]
  },
  {
   "cell_type": "code",
   "execution_count": 16,
   "metadata": {},
   "outputs": [],
   "source": [
    "#import required modules\n",
    "import os\n",
    "import pandas as pd\n",
    "from openpyxl import load_workbook\n",
    "\n",
    "#folder and gdb path\n",
    "folder_path = r\"D:\\ArcGIS_Projects\\FRDAccomplishments\\FY2025Q3\"\n",
    "gdb = r\"D:\\ArcGIS_Projects\\FRDAccomplishments\\FRDAccomplishments.gdb\"\n",
    "\n",
    "#Quater and Year you are working in\n",
    "qtr = \"FY2025_Q3\"\n",
    "\n",
    "#Name of your county layer in the geodatabase - This will be a general Texas Counties layer with a NAME field\n",
    "counties_template = \"Template\"\n",
    "\n",
    "#Name of the Texas_Places_WithCounties layer\n",
    "cities = \"Texas_Places_WithCounties\"\n",
    "\n",
    "#Path to excel file generated from Microsoft Access\n",
    "accomp_from_access = r\"D:\\ArcGIS_Projects\\FRDAccomplishments\\FY2025Q2\\Accomplishments.xls\\qryAll$\"\n",
    "\n",
    "#excel path to the UCF diviion reporting containing the cleaned cities and new sheets\n",
    "excel_path = r\"D:\\ArcGIS_Projects\\FRDAccomplishments\\FY2025Q3\\UCF_FY2025Q3.xls\"\n",
    "\n",
    "#Sheet names of edited data from Mac\n",
    "sheet_name_ELMR = \"UCF_Accomplishments_ELMR\"\n",
    "sheet_name_SPAM = \"UCF_Accomplishments_SPAM\"\n",
    "\n",
    "#These are temporary files, no need to change them\n",
    "ELMR_accomp_temp = os.path.join(folder_path, 'ELMR_accomp_temp.csv')\n",
    "SPAM_accomp_temp = os.path.join(folder_path, 'SPAM_accomp_temp.csv')"
   ]
  },
  {
   "cell_type": "code",
   "execution_count": 17,
   "metadata": {},
   "outputs": [
    {
     "data": {
      "text/html": [
       "<div class='gpresult'><h2 class='msg-title'>Messages</h2><div id='messages'>Start Time: Thursday, June 12, 2025 11:25:34 AM<br>Succeeded at Thursday, June 12, 2025 11:25:35 AM (Elapsed Time: 1.23 seconds)<br></div><div id = 'default' /></div></div>"
      ],
      "text/plain": [
       "<Result 'D:\\\\ArcGIS_Projects\\\\FRDAccomplishments\\\\FRDAccomplishments.gdb\\\\FY2025_Q3_Counties'>"
      ]
     },
     "execution_count": 17,
     "metadata": {},
     "output_type": "execute_result"
    }
   ],
   "source": [
    "#Create a copy of the County Layer that will be used for the map\n",
    "counties_new = f\"{qtr}_Counties\"\n",
    "arcpy.FeatureClassToFeatureClass_conversion(f\"{gdb}\\\\{counties_template}\", gdb, counties_new)"
   ]
  },
  {
   "cell_type": "code",
   "execution_count": 18,
   "metadata": {},
   "outputs": [
    {
     "name": "stdout",
     "output_type": "stream",
     "text": [
      "ELMR: \n",
      "\n",
      "    CountyName           AssistType                Category\n",
      "0   Montgomery    Arbor Day Program  Conservation Education\n",
      "1        Bowie    Arbor Day Program  Conservation Education\n",
      "2   Montgomery    Arbor Day Program  Conservation Education\n",
      "3   Montgomery    Arbor Day Program  Conservation Education\n",
      "4        Smith    Tree Board Assist    Technical Assistance\n",
      "5        Smith    Tree Board Assist    Technical Assistance\n",
      "6  Nacogdoches  Tree Planting Event    Technical Assistance\n",
      "7        Bexar  Tree Planting Event    Technical Assistance\n",
      "8     Angelina  Tree Planting Event    Technical Assistance\n",
      "9     RedRiver      UF Presentation  Conservation Education\n",
      "\n",
      "SPAM: \n",
      "\n",
      "        CityName                     AssistType                Category\n",
      "0        Bastrop  Arbor Day/Tree City USA Event  Conservation Education\n",
      "1         Belton  Arbor Day/Tree City USA Event  Conservation Education\n",
      "2         Borger  Arbor Day/Tree City USA Event  Conservation Education\n",
      "3    Brownsville  Arbor Day/Tree City USA Event  Conservation Education\n",
      "4  CorpusChristi  Arbor Day/Tree City USA Event  Conservation Education\n",
      "5  CorpusChristi  Arbor Day/Tree City USA Event  Conservation Education\n",
      "6          Donna  Arbor Day/Tree City USA Event  Conservation Education\n",
      "7          Donna  Arbor Day/Tree City USA Event  Conservation Education\n",
      "8          Donna  Arbor Day/Tree City USA Event  Conservation Education\n",
      "9       Edinburg  Arbor Day/Tree City USA Event  Conservation Education\n"
     ]
    },
    {
     "data": {
      "text/html": [
       "<div class='gpresult'><h2 class='msg-title'>Messages</h2><div id='messages'>Start Time: Thursday, June 12, 2025 11:25:46 AM<br>Succeeded at Thursday, June 12, 2025 11:25:48 AM (Elapsed Time: 1.36 seconds)<br></div><div id = 'default' /></div></div>"
      ],
      "text/plain": [
       "<Result 'FY2025_Q3_Counties_FromUCF'>"
      ]
     },
     "execution_count": 18,
     "metadata": {},
     "output_type": "execute_result"
    }
   ],
   "source": [
    "# Read data from the specified Excel sheets into dataframes\n",
    "accomp_from_ELMR_df = pd.read_excel(excel_path, sheet_name=sheet_name_ELMR)\n",
    "accomp_from_SPAM_df = pd.read_excel(excel_path, sheet_name=sheet_name_SPAM)\n",
    "\n",
    "# Rename columns for ELMR data and clean the CountyName field\n",
    "old_column_list_ELMR = accomp_from_ELMR_df.columns.tolist()\n",
    "old_column_list_SPAM = accomp_from_SPAM_df.columns.tolist()\n",
    "\n",
    "new_column_names_ELMR = {\n",
    "    old_column_list_ELMR[0]: \"CountyName\",\n",
    "    old_column_list_ELMR[1]: \"AssistType\",\n",
    "    old_column_list_ELMR[2]: \"Category\"\n",
    "}\n",
    "accomp_from_ELMR_df.rename(columns=new_column_names_ELMR, inplace=True)\n",
    "accomp_from_ELMR_df['CountyName'] = accomp_from_ELMR_df['CountyName'].str.replace(' ', '', regex=False)\n",
    "print(\"ELMR: \\n\")\n",
    "print(f\"{accomp_from_ELMR_df.head(10)}\\n\")\n",
    "\n",
    "# Rename columns for SPAM data and clean the CityName field\n",
    "new_column_names_SPAM = {\n",
    "    old_column_list_SPAM[0]: \"CityName\",\n",
    "    old_column_list_SPAM[1]: \"AssistType\",\n",
    "    old_column_list_SPAM[2]: \"Category\"\n",
    "}\n",
    "accomp_from_SPAM_df.rename(columns=new_column_names_SPAM, inplace=True)\n",
    "accomp_from_SPAM_df['CityName'] = accomp_from_SPAM_df['CityName'].str.replace(' ', '', regex=False)\n",
    "print(\"SPAM: \\n\")\n",
    "print(accomp_from_SPAM_df.head(10))\n",
    "\n",
    "ELMR_accomp_temp = os.path.join(folder_path, 'ELMR_accomp_temp.csv')\n",
    "SPAM_accomp_temp = os.path.join(folder_path, 'SPAM_accomp_temp.csv')\n",
    "\n",
    "# Convert the DataFrame to an Excel file\n",
    "accomp_from_ELMR_df.to_csv(ELMR_accomp_temp, index=False)\n",
    "accomp_from_SPAM_df.to_csv(SPAM_accomp_temp, index=False)\n",
    "\n",
    "arcpy.TableToTable_conversion(ELMR_accomp_temp, gdb, f\"{qtr}_Counties_FromELMR\")\n",
    "arcpy.TableToTable_conversion(SPAM_accomp_temp, gdb, f\"{qtr}_Cities_FromSPAM\")\n",
    "arcpy.TableToTable_conversion(accomp_from_access, gdb, f\"{qtr}_Counties_FromAccess\")\n",
    "\n",
    "# Join city data with their respective counties\n",
    "in_data = f\"{gdb}\\\\{qtr}_Cities_FromSPAM\"\n",
    "in_field = \"CityName\"\n",
    "join_table = f\"{gdb}\\\\{cities}\"\n",
    "join_field = \"CityName\"\n",
    "fields = \"CountyName\"\n",
    "arcpy.management.JoinField(in_data, in_field, join_table, join_field, fields)\n",
    "\n",
    "# Merge city and county data\n",
    "inputs = [f\"{gdb}\\\\{qtr}_Cities_FromSPAM\", f\"{gdb}\\\\{qtr}_Counties_FromELMR\" ]\n",
    "output = f\"{gdb}\\\\{qtr}_Counties_FromUCF_Merge\"\n",
    "arcpy.management.Merge(inputs, output)\n",
    "\n",
    "# Generate a summary of counties and their assist types\n",
    "output_table = f\"{gdb}\\\\{qtr}_Counties_FromUCF\"\n",
    "arcpy.analysis.Statistics(output, output_table, [[\"CountyName\", \"COUNT\"]], [\"Category\", \"CountyName\"])\n",
    "\n",
    "# Ensure missing values in specific fields are set to zero\n",
    "arcpy.management.SelectLayerByAttribute(f\"{qtr}_Counties_FromAccess\", \"NEW_SELECTION\", \"Conservation_Education IS NULL\")\n",
    "arcpy.management.CalculateField(f\"{qtr}_Counties_FromAccess\", \"Conservation_Education\", 0 )\n",
    "arcpy.management.SelectLayerByAttribute(f\"{qtr}_Counties_FromAccess\", \"NEW_SELECTION\", \"Management_Plans IS NULL\")\n",
    "arcpy.management.CalculateField(f\"{qtr}_Counties_FromAccess\", \"Management_Plans\", 0 )\n",
    "arcpy.management.SelectLayerByAttribute(f\"{qtr}_Counties_FromAccess\", \"NEW_SELECTION\", \"Technical_Assistance IS NULL\")\n",
    "arcpy.management.CalculateField(f\"{qtr}_Counties_FromAccess\", \"Technical_Assistance\", 0 )\n",
    "arcpy.management.SelectLayerByAttribute(f\"{qtr}_Counties_FromAccess\", \"NEW_SELECTION\", \"FIA_Plots IS NULL\")\n",
    "arcpy.management.CalculateField(f\"{qtr}_Counties_FromAccess\", \"FIA_Plots\", 0 )\n",
    "\n",
    "#clear selection\n",
    "arcpy.management.SelectLayerByAttribute(f\"{qtr}_Counties_FromAccess\", \"CLEAR_SELECTION\")\n",
    "\n",
    "# Add and calculate new fields to track matched counties\n",
    "arcpy.management.AddField(f\"{qtr}_Counties_FromAccess\", \"CountyChecker\", \"LONG\")\n",
    "arcpy.management.CalculateField(f\"{qtr}_Counties_FromAccess\", \"CountyChecker\", 0 )\n",
    "arcpy.management.JoinField(f\"{qtr}_Counties_FromUCF\", \"CountyName\", f\"{qtr}_Counties_FromAccess\" , \"CountyName\", \"CountyChecker\")"
   ]
  },
  {
   "cell_type": "markdown",
   "metadata": {},
   "source": [
    "## Critical Step\n",
    "### Run the cell below to see if there are null values in the County Name field. If there are, it is likely because the CityName was actually reported as a County instead of a city. In that case, you can just delete those rows. It may also be null because of a misspelling. In that case, fix the spelling of the city. Re-run the cell below until there are no null values in the County Name column. \n",
    "\n",
    "### There will be null values in the CityName column because the ELMR table contains Counties only - so dont worry about those. Only focus on the County Name Column"
   ]
  },
  {
   "cell_type": "code",
   "execution_count": 20,
   "metadata": {},
   "outputs": [
    {
     "name": "stdout",
     "output_type": "stream",
     "text": [
      "All counties match, proceed to next step\n"
     ]
    }
   ],
   "source": [
    "# Check for unmatched counties and handle appropriately\n",
    "null_count = 0\n",
    "with arcpy.da.SearchCursor(f\"{qtr}_Counties_FromUCF_Merge\", [\"CountyName\"]) as cursor:\n",
    "    for row in cursor:\n",
    "        if row[0] is None:\n",
    "            null_count += 1\n",
    "    \n",
    "if null_count == 0:\n",
    "    print(\"All counties match, proceed to next step\")\n",
    "else:\n",
    "    print(f\"WAIT! There are {null_count} counties that are not matched in the Counties_FromUCF_Merge table. Go back and fix until there are no NULL values in the County Name column.\")"
   ]
  },
  {
   "cell_type": "code",
   "execution_count": 21,
   "metadata": {},
   "outputs": [
    {
     "data": {
      "text/html": [
       "<div class='gpresult'><h2 class='msg-title'>Messages</h2><div id='messages'>Start Time: Thursday, June 12, 2025 11:28:11 AM<br>Adding Technical_Assistance_UCF to FY2025_Q3_Counties_FromUCF...<br>Succeeded at Thursday, June 12, 2025 11:28:11 AM (Elapsed Time: 0.35 seconds)<br></div><div id = 'default' /></div></div>"
      ],
      "text/plain": [
       "<Result 'FY2025_Q3_Counties_FromUCF'>"
      ]
     },
     "execution_count": 21,
     "metadata": {},
     "output_type": "execute_result"
    }
   ],
   "source": [
    "arcpy.management.AddField(f\"{qtr}_Counties_FromUCF\", \"Technical_Assistance_UCF\", 'LONG')"
   ]
  },
  {
   "cell_type": "code",
   "execution_count": 24,
   "metadata": {},
   "outputs": [
    {
     "data": {
      "text/html": [
       "<div class='gpresult'><h2 class='msg-title'>Messages</h2><div id='messages'>Start Time: Thursday, June 12, 2025 11:35:08 AM<br>Succeeded at Thursday, June 12, 2025 11:35:10 AM (Elapsed Time: 1.89 seconds)<br></div><div id = 'default' /></div></div>"
      ],
      "text/plain": [
       "<Result 'FY2025_Q3_Counties'>"
      ]
     },
     "execution_count": 24,
     "metadata": {},
     "output_type": "execute_result"
    }
   ],
   "source": [
    "# arcpy.management.SelectLayerByAttribute(f\"{qtr}_Counties_FromUCF\", \"NEW_SELECTION\", \"Category = 'Conservation Education'\")\n",
    "# arcpy.management.CalculateField(f\"{qtr}_Counties_FromUCF\", \"Conservation_Education_UCF\", 0 )\n",
    "# arcpy.management.CalculateField(f\"{qtr}_Counties_FromUCF\", \"Conservation_Education_UCF\", \"!COUNT_CountyName!\" )\n",
    "# arcpy.management.JoinField(f\"{qtr}_Counties_FromAccess\", \"CountyName\", f\"{qtr}_Counties_FromUCF\" , \"CountyName\", \"Conservation_Education_UCF\")\n",
    "\n",
    "# arcpy.management.SelectLayerByAttribute(f\"{qtr}_Counties_FromUCF\", \"NEW_SELECTION\", \"Category = 'Technical Assistance'\")\n",
    "# arcpy.management.CalculateField(f\"{qtr}_Counties_FromUCF\", \"Technical_Assistance_UCF\", 0 )\n",
    "# arcpy.management.CalculateField(f\"{qtr}_Counties_FromUCF\", \"Technical_Assistance_UCF\", \"!COUNT_CountyName!\" )\n",
    "# arcpy.management.JoinField(f\"{qtr}_Counties_FromAccess\", \"CountyName\", f\"{qtr}_Counties_FromUCF\" , \"CountyName\", \"Technical_Assistance_UCF\")\n",
    "# arcpy.management.SelectLayerByAttribute(f\"{qtr}_Counties_FromUCF\", \"CLEAR_SELECTION\")\n",
    "\n",
    "# arcpy.management.SelectLayerByAttribute(f\"{qtr}_Counties_FromAccess\", \"NEW_SELECTION\", \"Technical_Assistance_UCF IS NULL\")\n",
    "# arcpy.management.CalculateField(f\"{qtr}_Counties_FromAccess\", \"Technical_Assistance_UCF\", 0 )\n",
    "# arcpy.management.SelectLayerByAttribute(f\"{qtr}_Counties_FromAccess\", \"NEW_SELECTION\", \"Conservation_Education_UCF IS NULL\")\n",
    "# arcpy.management.CalculateField(f\"{qtr}_Counties_FromAccess\", \"Conservation_Education_UCF\", 0 )\n",
    "# arcpy.management.SelectLayerByAttribute(f\"{qtr}_Counties_FromAccess\", \"CLEAR_SELECTION\")\n",
    "\n",
    "# arcpy.management.AddField(f\"{qtr}_Counties_FromAccess\", \"Conservation_Education_Total\", 'LONG')\n",
    "# arcpy.management.AddField(f\"{qtr}_Counties_FromAccess\", \"Technical_Assistance_Total\", 'LONG')\n",
    "# arcpy.management.CalculateField(f\"{qtr}_Counties_FromAccess\", \"Conservation_Education_Total\", 0)\n",
    "# arcpy.management.CalculateField(f\"{qtr}_Counties_FromAccess\", \"Technical_Assistance_Total\", 0)\n",
    "\n",
    "arcpy.management.CalculateField(f\"{qtr}_Counties_FromAccess\", \"Conservation_Education_Total\", \"int(!Conservation_Education!) + int(!Conservation_Education_UCF!)\")\n",
    "arcpy.management.CalculateField(f\"{qtr}_Counties_FromAccess\", \"Technical_Assistance_Total\", \"!Technical_Assistance! + !Technical_Assistance_UCF!\")\n",
    "\n",
    "arcpy.management.JoinField(counties_new, \n",
    "                           \"CountyName\", \n",
    "                           f\"{qtr}_Counties_FromAccess\" , \n",
    "                           \"CountyName\", \n",
    "                           \"CountyChecker\")"
   ]
  },
  {
   "cell_type": "code",
   "execution_count": 25,
   "metadata": {},
   "outputs": [
    {
     "name": "stdout",
     "output_type": "stream",
     "text": [
      "All counties match, proceed to next step\n"
     ]
    }
   ],
   "source": [
    "#Final check to for null values in the new county layer\n",
    "null_count = 0\n",
    "with arcpy.da.SearchCursor(counties_new, [\"CountyChecker\"]) as cursor:\n",
    "    for row in cursor:\n",
    "        if row[0] is None:\n",
    "            null_count += 1\n",
    "    \n",
    "if null_count == 0:\n",
    "    print(\"All counties match, proceed to next step\")\n",
    "else:\n",
    "    print(f\"WAIT! There are {null_count} counties that are not matched in the UCF table. Go back and fix before proceeding.\")"
   ]
  },
  {
   "cell_type": "code",
   "execution_count": 26,
   "metadata": {},
   "outputs": [
    {
     "data": {
      "text/html": [
       "<div class='gpresult'><h2 class='msg-title'>Messages</h2><div id='messages'>Start Time: Thursday, June 12, 2025 11:36:11 AM<br>Succeeded at Thursday, June 12, 2025 11:36:14 AM (Elapsed Time: 2.37 seconds)<br></div><div id = 'default' /></div></div>"
      ],
      "text/plain": [
       "<Result 'FY2025_Q3_Counties'>"
      ]
     },
     "execution_count": 26,
     "metadata": {},
     "output_type": "execute_result"
    }
   ],
   "source": [
    "#Join the final table to the county layer\n",
    "arcpy.management.JoinField(counties_new, \n",
    "                           \"CountyName\", \n",
    "                           f\"{qtr}_Counties_FromAccess\" , \n",
    "                           \"CountyName\", \n",
    "                           [\"FIA_Plots\", \"Management_Plans\", \"Conservation_Education_Total\", \"Technical_Assistance_Total\"])"
   ]
  },
  {
   "cell_type": "code",
   "execution_count": null,
   "metadata": {},
   "outputs": [],
   "source": []
  }
 ],
 "metadata": {
  "celltoolbar": "Raw Cell Format",
  "kernelspec": {
   "display_name": "ArcGISPro",
   "language": "python",
   "name": "python3"
  },
  "language_info": {
   "file_extension": ".py",
   "mimetype": "text/x-python",
   "name": "python",
   "version": "3.11.10"
  }
 },
 "nbformat": 4,
 "nbformat_minor": 4
}
