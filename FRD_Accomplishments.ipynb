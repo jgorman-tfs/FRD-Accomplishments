{
 "cells": [
  {
   "cell_type": "markdown",
   "metadata": {},
   "source": [
    "# FRD Accomplishments Script <br>\n",
    "## This goal of this script is to get the total accomplishments for each category for each county using the ELMR report and UCF Report. The ELMR report is generated through microsoft access, and the UCF report is from Mac. <br>\n",
    "### Read the README File in Github for more detailed information.  https://github.com/jgorman-tfs/FRD-Accomplishments"
   ]
  },
  {
   "cell_type": "markdown",
   "metadata": {},
   "source": [
    "## Before you do prodeed, ensure you have done the following:\n",
    "1. Import the new FIA report into the Microsoft Access Database\n",
    "2. Generate the report\n",
    "3. Clean the UCF Report, creating two new sheets for the ELMR and SPAM sheets. They should have 3 columns: City or County Name, Assist Type, and Category.\n",
    "## Set you folder paths and qtr name here. You should not need to change anything else."
   ]
  },
  {
   "cell_type": "code",
   "execution_count": 98,
   "metadata": {},
   "outputs": [],
   "source": [
    "qtr = \"Q5_2024\"\n",
    "#Name of your county layer in the geodatabase\n",
    "counties_template = \"Template\"\n",
    "#Path to excel file generated from Microsoft Access\n",
    "accomp_from_access = r'D:\\ArcGIS_Projects\\FRDAccomplishments\\FY2024Q4\\Accomplishments_ELMR.csv'\n",
    "#Sheet names of edited data from Mac\n",
    "sheet_name_ELMR = \"ELMR\"\n",
    "sheet_name_SPAM = \"SPAM\"\n",
    "\n",
    "ELMR_accomp_temp = os.path.join(folder_path, 'ELMR_accomp_temp.csv')\n",
    "SPAM_accomp_temp = os.path.join(folder_path, 'SPAM_accomp_temp.csv')"
   ]
  },
  {
   "cell_type": "code",
   "execution_count": 99,
   "metadata": {},
   "outputs": [
    {
     "data": {
      "text/html": [
       "<div class='gpresult'><h2>Messages</h2><div id='messages'>Start Time: Wednesday, September 11, 2024 1:59:39 PM<br>Succeeded at Wednesday, September 11, 2024 1:59:40 PM (Elapsed Time: 1.28 seconds)<br></div><div id = 'default' /></div></div>"
      ],
      "text/plain": [
       "<Result 'D:\\\\ArcGIS_Projects\\\\FRDAccomplishments\\\\FRDAccomplishments.gdb\\\\Q5_2024_Counties'>"
      ]
     },
     "execution_count": 99,
     "metadata": {},
     "output_type": "execute_result"
    }
   ],
   "source": [
    "#Create a copy of the County Layer that will be used for the map\n",
    "counties_new = f\"{qtr}_Counties\"\n",
    "arcpy.FeatureClassToFeatureClass_conversion(f\"{gdb}\\\\{counties_template}\", gdb, counties_new)"
   ]
  },
  {
   "cell_type": "code",
   "execution_count": 102,
   "metadata": {},
   "outputs": [
    {
     "name": "stdout",
     "output_type": "stream",
     "text": [
      "ELMR: \n",
      "\n",
      "  CountyName                           AssistType                Category\n",
      "0   Hamilton  Arbor Day/Tree City USA Event (ARB)  Conservation Education\n",
      "1   Lampasas  Arbor Day/Tree City USA Event (ARB)  Conservation Education\n",
      "2      Falls  Arbor Day/Tree City USA Event (ARB)  Conservation Education\n",
      "3    Coryell  Arbor Day/Tree City USA Event (ARB)  Conservation Education\n",
      "4  Freestone  Arbor Day/Tree City USA Event (ARB)  Conservation Education\n",
      "5       Bell  Arbor Day/Tree City USA Event (ARB)  Conservation Education\n",
      "6      Mills  Arbor Day/Tree City USA Event (ARB)  Conservation Education\n",
      "7  Limestone  Arbor Day/Tree City USA Event (ARB)  Conservation Education\n",
      "8   McLennan  Arbor Day/Tree City USA Event (ARB)  Conservation Education\n",
      "9    SanSaba  Arbor Day/Tree City USA Event (ARB)  Conservation Education\n",
      "\n",
      "SPAM: \n",
      "\n",
      "    CityName                                AssistType                Category\n",
      "0      Alamo  Education/Outreach Event or Presentation  Conservation Education\n",
      "1      Allen     EAB and other Pest Detection/Planning   Technical Assistance \n",
      "2     Alpine             Arbor Day/Tree City USA Event  Conservation Education\n",
      "3   Alvarado     Landscape Plan or Site-Specific Issue   Technical Assistance \n",
      "4   Angelina              Conference/Workshop/Training  Conservation Education\n",
      "5  Arlington  Education/Outreach Event or Presentation  Conservation Education\n",
      "6  Arlington            Management Plan/Strategic Plan   Technical Assistance \n",
      "7     Austin             Arbor Day/Tree City USA Event  Conservation Education\n",
      "8     Austin             Brochure/Web/Newsletter/Media  Conservation Education\n",
      "9     Austin             Brochure/Web/Newsletter/Media  Conservation Education\n"
     ]
    }
   ],
   "source": [
    "import pandas as pd\n",
    "from openpyxl import load_workbook\n",
    "\n",
    "accomp_from_ELMR_df = pd.read_excel(excel_path, sheet_name=sheet_name_ELMR)\n",
    "\n",
    "accomp_from_SPAM_df = pd.read_excel(excel_path, sheet_name=sheet_name_SPAM)\n",
    "\n",
    "\n",
    "old_column_list_ELMR = accomp_from_ELMR_df.columns.tolist()\n",
    "old_column_list_SPAM = accomp_from_SPAM_df.columns.tolist()\n",
    "\n",
    "new_column_names_ELMR = {\n",
    "    old_column_list_ELMR[0]: \"CountyName\",\n",
    "    old_column_list_ELMR[1]: \"AssistType\",\n",
    "    old_column_list_ELMR[2]: \"Category\"\n",
    "}\n",
    "accomp_from_ELMR_df.rename(columns=new_column_names_ELMR, inplace=True)\n",
    "accomp_from_ELMR_df['CountyName'] = accomp_from_ELMR_df['CountyName'].str.replace(' ', '', regex=False)\n",
    "print(\"ELMR: \\n\")\n",
    "print(f\"{accomp_from_ELMR_df.head(10)}\\n\")\n",
    "\n",
    "new_column_names_SPAM = {\n",
    "    old_column_list_SPAM[0]: \"CityName\",\n",
    "    old_column_list_SPAM[1]: \"AssistType\",\n",
    "    old_column_list_SPAM[2]: \"Category\"\n",
    "}\n",
    "accomp_from_SPAM_df.rename(columns=new_column_names_SPAM, inplace=True)\n",
    "accomp_from_SPAM_df['CityName'] = accomp_from_SPAM_df['CityName'].str.replace(' ', '', regex=False)\n",
    "print(\"SPAM: \\n\")\n",
    "print(accomp_from_SPAM_df.head(10))"
   ]
  },
  {
   "cell_type": "code",
   "execution_count": 103,
   "metadata": {},
   "outputs": [
    {
     "data": {
      "text/html": [
       "<div class='gpresult'><h2>Messages</h2><div id='messages'>Start Time: Wednesday, September 11, 2024 2:01:07 PM<br>Succeeded at Wednesday, September 11, 2024 2:01:07 PM (Elapsed Time: 0.52 seconds)<br></div><div id = 'default' /></div></div>"
      ],
      "text/plain": [
       "<Result 'D:\\\\ArcGIS_Projects\\\\FRDAccomplishments\\\\FRDAccomplishments.gdb\\\\Q5_2024_Counties_FromAccess'>"
      ]
     },
     "execution_count": 103,
     "metadata": {},
     "output_type": "execute_result"
    }
   ],
   "source": [
    "import os\n",
    "ELMR_accomp_temp = os.path.join(folder_path, 'ELMR_accomp_temp.csv')\n",
    "SPAM_accomp_temp = os.path.join(folder_path, 'SPAM_accomp_temp.csv')\n",
    "\n",
    "# Convert the DataFrame to an Excel file\n",
    "accomp_from_ELMR_df.to_csv(ELMR_accomp_temp, index=False)\n",
    "accomp_from_SPAM_df.to_csv(SPAM_accomp_temp, index=False)\n",
    "\n",
    "arcpy.TableToTable_conversion(ELMR_accomp_temp, gdb, f\"{qtr}_Counties_FromELMR\")\n",
    "arcpy.TableToTable_conversion(SPAM_accomp_temp, gdb, f\"{qtr}_Cities_FromSPAM\")\n",
    "arcpy.TableToTable_conversion(accomp_from_access, gdb, f\"{qtr}_Counties_FromAccess\")"
   ]
  },
  {
   "cell_type": "code",
   "execution_count": 104,
   "metadata": {},
   "outputs": [
    {
     "data": {
      "text/html": [
       "<div class='gpresult'><h2>Messages</h2><div id='messages'>Start Time: Wednesday, September 11, 2024 2:01:14 PM<br>Succeeded at Wednesday, September 11, 2024 2:01:15 PM (Elapsed Time: 0.99 seconds)<br></div><div id = 'default' /></div></div>"
      ],
      "text/plain": [
       "<Result 'D:\\\\ArcGIS_Projects\\\\FRDAccomplishments\\\\FRDAccomplishments.gdb\\\\Q5_2024_Cities_FromSPAM'>"
      ]
     },
     "execution_count": 104,
     "metadata": {},
     "output_type": "execute_result"
    }
   ],
   "source": [
    "in_data = f\"{gdb}\\\\{qtr}_Cities_FromSPAM\"\n",
    "in_field = \"CityName\"\n",
    "join_table = f\"{gdb}\\\\{cities}\"\n",
    "join_field = \"CityName\"\n",
    "fields = \"CountyName\"\n",
    "arcpy.management.JoinField(in_data, in_field, join_table, join_field, fields)"
   ]
  },
  {
   "cell_type": "code",
   "execution_count": 105,
   "metadata": {},
   "outputs": [
    {
     "data": {
      "text/html": [
       "<div class='gpresult'><h2>Messages</h2><div id='messages'>Start Time: Wednesday, September 11, 2024 2:01:17 PM<br>Succeeded at Wednesday, September 11, 2024 2:01:17 PM (Elapsed Time: 0.59 seconds)<br></div><div id = 'default' /></div></div>"
      ],
      "text/plain": [
       "<Result 'D:\\\\ArcGIS_Projects\\\\FRDAccomplishments\\\\FRDAccomplishments.gdb\\\\Q5_2024_Counties_FromUCF_Merge'>"
      ]
     },
     "execution_count": 105,
     "metadata": {},
     "output_type": "execute_result"
    }
   ],
   "source": [
    "inputs = [f\"{gdb}\\\\{qtr}_Cities_FromSPAM\", f\"{gdb}\\\\{qtr}_Counties_FromELMR\" ]\n",
    "output = f\"{gdb}\\\\{qtr}_Counties_FromUCF_Merge\"\n",
    "arcpy.management.Merge(inputs, output)"
   ]
  },
  {
   "cell_type": "code",
   "execution_count": 106,
   "metadata": {},
   "outputs": [
    {
     "data": {
      "text/html": [
       "<div class='gpresult'><h2>Messages</h2><div id='messages'>Start Time: Wednesday, September 11, 2024 2:01:18 PM<br>WARNING 003108: Input fields contained null value(s).  Null value(s) skipped.<br>Succeeded at Wednesday, September 11, 2024 2:01:19 PM (Elapsed Time: 0.41 seconds)<br></div><div id = 'default' /></div></div>"
      ],
      "text/plain": [
       "<Result 'D:\\\\ArcGIS_Projects\\\\FRDAccomplishments\\\\FRDAccomplishments.gdb\\\\Q5_2024_Counties_FromUCF'>"
      ]
     },
     "execution_count": 106,
     "metadata": {},
     "output_type": "execute_result"
    }
   ],
   "source": [
    "output_table = f\"{gdb}\\\\{qtr}_Counties_FromUCF\"\n",
    "arcpy.analysis.Statistics(output, output_table, [[\"CountyName\", \"COUNT\"]], [\"Category\", \"CountyName\"])"
   ]
  },
  {
   "cell_type": "code",
   "execution_count": 107,
   "metadata": {},
   "outputs": [
    {
     "data": {
      "text/html": [
       "<div class='gpresult'><h2>Messages</h2><div id='messages'>Start Time: Wednesday, September 11, 2024 2:01:23 PM<br>Succeeded at Wednesday, September 11, 2024 2:01:24 PM (Elapsed Time: 0.04 seconds)<br></div><div id = 'default' /></div></div>"
      ],
      "text/plain": [
       "<Result 'Q5_2024_Counties_FromAccess'>"
      ]
     },
     "execution_count": 107,
     "metadata": {},
     "output_type": "execute_result"
    }
   ],
   "source": [
    "arcpy.management.SelectLayerByAttribute(f\"{qtr}_Counties_FromAccess\", \"NEW_SELECTION\", \"Conservation_Education IS NULL\")\n",
    "arcpy.management.CalculateField(f\"{qtr}_Counties_FromAccess\", \"Conservation_Education\", 0 )\n",
    "\n",
    "arcpy.management.SelectLayerByAttribute(f\"{qtr}_Counties_FromAccess\", \"NEW_SELECTION\", \"Management_Plans IS NULL\")\n",
    "arcpy.management.CalculateField(f\"{qtr}_Counties_FromAccess\", \"Management_Plans\", 0 )\n",
    "\n",
    "arcpy.management.SelectLayerByAttribute(f\"{qtr}_Counties_FromAccess\", \"NEW_SELECTION\", \"Technical_Assistance IS NULL\")\n",
    "arcpy.management.CalculateField(f\"{qtr}_Counties_FromAccess\", \"Technical_Assistance\", 0 )\n",
    "\n",
    "arcpy.management.SelectLayerByAttribute(f\"{qtr}_Counties_FromAccess\", \"NEW_SELECTION\", \"FIA_Plots IS NULL\")\n",
    "arcpy.management.CalculateField(f\"{qtr}_Counties_FromAccess\", \"FIA_Plots\", 0 )\n",
    "\n",
    "arcpy.management.SelectLayerByAttribute(f\"{qtr}_Counties_FromAccess\", \"CLEAR_SELECTION\")\n"
   ]
  },
  {
   "cell_type": "code",
   "execution_count": 108,
   "metadata": {},
   "outputs": [
    {
     "data": {
      "text/html": [
       "<div class='gpresult'><h2>Messages</h2><div id='messages'>Start Time: Wednesday, September 11, 2024 2:01:25 PM<br>Succeeded at Wednesday, September 11, 2024 2:01:26 PM (Elapsed Time: 1.45 seconds)<br></div><div id = 'default' /></div></div>"
      ],
      "text/plain": [
       "<Result 'Q5_2024_Counties_FromUCF'>"
      ]
     },
     "execution_count": 108,
     "metadata": {},
     "output_type": "execute_result"
    }
   ],
   "source": [
    "arcpy.management.AddFields(f\"{qtr}_Counties_FromAccess\", [\"CountyChecker\", \"SHORT\"])\n",
    "arcpy.management.CalculateField(f\"{qtr}_Counties_FromAccess\", \"CountyChecker\", 0 )\n",
    "arcpy.management.JoinField(f\"{qtr}_Counties_FromUCF\", \"CountyName\", f\"{qtr}_Counties_FromAccess\" , \"CountyName\", \"CountyChecker\")"
   ]
  },
  {
   "cell_type": "code",
   "execution_count": 111,
   "metadata": {},
   "outputs": [
    {
     "name": "stdout",
     "output_type": "stream",
     "text": [
      "All counties match, proceed to next step\n"
     ]
    }
   ],
   "source": [
    "null_count = 0\n",
    "with arcpy.da.SearchCursor(f\"{qtr}_Counties_FromUCF_Merge\", [\"CountyName\"]) as cursor:\n",
    "    for row in cursor:\n",
    "            # Check if the field value is None (NULL in ArcGIS)\n",
    "        if row[0] is None:\n",
    "            null_count += 1\n",
    "    \n",
    "if null_count == 0:\n",
    "    print(\"All counties match, proceed to next step\")\n",
    "else:\n",
    "    print(f\"WAIT! There are {null_count} counties that are not matched in the Counties_FromUCF_Merge table. Go back and fix until there are no NULL values in the County Name column.\")"
   ]
  },
  {
   "cell_type": "code",
   "execution_count": 112,
   "metadata": {},
   "outputs": [
    {
     "data": {
      "text/html": [
       "<div class='gpresult'><h2>Messages</h2><div id='messages'>Start Time: Wednesday, September 11, 2024 2:05:38 PM<br>Adding Conservation_Education_UCF to Q5_2024_Counties_FromUCF...<br>Adding Technical_Assistance_UCF to Q5_2024_Counties_FromUCF...<br>Succeeded at Wednesday, September 11, 2024 2:05:38 PM (Elapsed Time: 0.41 seconds)<br></div><div id = 'default' /></div></div>"
      ],
      "text/plain": [
       "<Result 'Q5_2024_Counties_FromUCF'>"
      ]
     },
     "execution_count": 112,
     "metadata": {},
     "output_type": "execute_result"
    }
   ],
   "source": [
    "arcpy.management.AddFields(f\"{qtr}_Counties_FromUCF\", [\"Conservation_Education_UCF\", \"Technical_Assistance_UCF\"])"
   ]
  },
  {
   "cell_type": "code",
   "execution_count": 114,
   "metadata": {},
   "outputs": [
    {
     "data": {
      "text/html": [
       "<div class='gpresult'><h2>Messages</h2><div id='messages'>Start Time: Wednesday, September 11, 2024 2:05:58 PM<br>Succeeded at Wednesday, September 11, 2024 2:05:59 PM (Elapsed Time: 1.45 seconds)<br></div><div id = 'default' /></div></div>"
      ],
      "text/plain": [
       "<Result 'Q5_2024_Counties_FromAccess'>"
      ]
     },
     "execution_count": 114,
     "metadata": {},
     "output_type": "execute_result"
    }
   ],
   "source": [
    "arcpy.management.SelectLayerByAttribute(f\"{qtr}_Counties_FromUCF\", \"NEW_SELECTION\", \"Category = 'Conservation Education'\")\n",
    "arcpy.management.CalculateField(f\"{qtr}_Counties_FromUCF\", \"Conservation_Education_UCF\", 0 )\n",
    "arcpy.management.CalculateField(f\"{qtr}_Counties_FromUCF\", \"Conservation_Education_UCF\", \"!COUNT_CountyName!\" )\n",
    "arcpy.management.JoinField(f\"{qtr}_Counties_FromAccess\", \"CountyName\", f\"{qtr}_Counties_FromUCF\" , \"CountyName\", \"Conservation_Education_UCF\")"
   ]
  },
  {
   "cell_type": "code",
   "execution_count": 115,
   "metadata": {},
   "outputs": [
    {
     "data": {
      "text/html": [
       "<div class='gpresult'><h2>Messages</h2><div id='messages'>Start Time: Wednesday, September 11, 2024 2:06:04 PM<br>Succeeded at Wednesday, September 11, 2024 2:06:05 PM (Elapsed Time: 1.58 seconds)<br></div><div id = 'default' /></div></div>"
      ],
      "text/plain": [
       "<Result 'Q5_2024_Counties_FromAccess'>"
      ]
     },
     "execution_count": 115,
     "metadata": {},
     "output_type": "execute_result"
    }
   ],
   "source": [
    "arcpy.management.SelectLayerByAttribute(f\"{qtr}_Counties_FromUCF\", \"NEW_SELECTION\", \"Category = 'Technical Assistance'\")\n",
    "arcpy.management.CalculateField(f\"{qtr}_Counties_FromUCF\", \"Technical_Assistance_UCF\", 0 )\n",
    "arcpy.management.CalculateField(f\"{qtr}_Counties_FromUCF\", \"Technical_Assistance_UCF\", \"!COUNT_CountyName!\" )\n",
    "arcpy.management.JoinField(f\"{qtr}_Counties_FromAccess\", \"CountyName\", f\"{qtr}_Counties_FromUCF\" , \"CountyName\", \"Technical_Assistance_UCF\")"
   ]
  },
  {
   "cell_type": "code",
   "execution_count": 116,
   "metadata": {},
   "outputs": [
    {
     "data": {
      "text/html": [
       "<div class='gpresult'><h2>Messages</h2><div id='messages'>Start Time: Wednesday, September 11, 2024 2:06:06 PM<br>Succeeded at Wednesday, September 11, 2024 2:06:06 PM (Elapsed Time: 0.02 seconds)<br></div><div id = 'default' /></div></div>"
      ],
      "text/plain": [
       "<Result 'Q5_2024_Counties_FromUCF'>"
      ]
     },
     "execution_count": 116,
     "metadata": {},
     "output_type": "execute_result"
    }
   ],
   "source": [
    "arcpy.management.SelectLayerByAttribute(f\"{qtr}_Counties_FromUCF\", \"CLEAR_SELECTION\")"
   ]
  },
  {
   "cell_type": "code",
   "execution_count": 118,
   "metadata": {},
   "outputs": [
    {
     "data": {
      "text/html": [
       "<div class='gpresult'><h2>Messages</h2><div id='messages'>Start Time: Wednesday, September 11, 2024 2:06:26 PM<br>Succeeded at Wednesday, September 11, 2024 2:06:26 PM (Elapsed Time: 0.05 seconds)<br></div><div id = 'default' /></div></div>"
      ],
      "text/plain": [
       "<Result 'Q5_2024_Counties_FromAccess'>"
      ]
     },
     "execution_count": 118,
     "metadata": {},
     "output_type": "execute_result"
    }
   ],
   "source": [
    "arcpy.management.SelectLayerByAttribute(f\"{qtr}_Counties_FromAccess\", \"NEW_SELECTION\", \"Technical_Assistance_UCF IS NULL\")\n",
    "arcpy.management.CalculateField(f\"{qtr}_Counties_FromAccess\", \"Technical_Assistance_UCF\", 0 )\n",
    "arcpy.management.SelectLayerByAttribute(f\"{qtr}_Counties_FromAccess\", \"NEW_SELECTION\", \"Conservation_Education_UCF IS NULL\")\n",
    "arcpy.management.CalculateField(f\"{qtr}_Counties_FromAccess\", \"Conservation_Education_UCF\", 0 )\n",
    "arcpy.management.SelectLayerByAttribute(f\"{qtr}_Counties_FromAccess\", \"CLEAR_SELECTION\")"
   ]
  },
  {
   "cell_type": "code",
   "execution_count": 119,
   "metadata": {},
   "outputs": [
    {
     "data": {
      "text/html": [
       "<div class='gpresult'><h2>Messages</h2><div id='messages'>Start Time: Wednesday, September 11, 2024 2:06:29 PM<br>Succeeded at Wednesday, September 11, 2024 2:06:30 PM (Elapsed Time: 0.43 seconds)<br></div><div id = 'default' /></div></div>"
      ],
      "text/plain": [
       "<Result 'Q5_2024_Counties_FromAccess'>"
      ]
     },
     "execution_count": 119,
     "metadata": {},
     "output_type": "execute_result"
    }
   ],
   "source": [
    "arcpy.management.AddFields(f\"{qtr}_Counties_FromAccess\", [\"Conservation_Education_Total\", \"Technical_Assistance_Total\"])\n",
    "arcpy.management.CalculateField(f\"{qtr}_Counties_FromAccess\", \"Conservation_Education_Total\", 0)\n",
    "arcpy.management.CalculateField(f\"{qtr}_Counties_FromAccess\", \"Technical_Assistance_Total\", 0)"
   ]
  },
  {
   "cell_type": "code",
   "execution_count": 120,
   "metadata": {},
   "outputs": [
    {
     "data": {
      "text/html": [
       "<div class='gpresult'><h2>Messages</h2><div id='messages'>Start Time: Wednesday, September 11, 2024 2:06:31 PM<br>Succeeded at Wednesday, September 11, 2024 2:06:32 PM (Elapsed Time: 0.41 seconds)<br></div><div id = 'default' /></div></div>"
      ],
      "text/plain": [
       "<Result 'Q5_2024_Counties_FromAccess'>"
      ]
     },
     "execution_count": 120,
     "metadata": {},
     "output_type": "execute_result"
    }
   ],
   "source": [
    "arcpy.management.CalculateField(f\"{qtr}_Counties_FromAccess\", \"Conservation_Education_Total\", \"!Conservation_Education! + !Conservation_Education_UCF!\")\n",
    "arcpy.management.CalculateField(f\"{qtr}_Counties_FromAccess\", \"Technical_Assistance_Total\", \"!Technical_Assistance! + !Technical_Assistance_UCF!\")"
   ]
  },
  {
   "cell_type": "code",
   "execution_count": 121,
   "metadata": {},
   "outputs": [
    {
     "data": {
      "text/html": [
       "<div class='gpresult'><h2>Messages</h2><div id='messages'>Start Time: Wednesday, September 11, 2024 2:06:33 PM<br>Succeeded at Wednesday, September 11, 2024 2:06:35 PM (Elapsed Time: 1.76 seconds)<br></div><div id = 'default' /></div></div>"
      ],
      "text/plain": [
       "<Result 'Q5_2024_Counties'>"
      ]
     },
     "execution_count": 121,
     "metadata": {},
     "output_type": "execute_result"
    }
   ],
   "source": [
    "arcpy.management.JoinField(counties_new, \n",
    "                           \"CountyName\", \n",
    "                           f\"{qtr}_Counties_FromAccess\" , \n",
    "                           \"CountyName\", \n",
    "                           \"CountyChecker\")"
   ]
  },
  {
   "cell_type": "code",
   "execution_count": 122,
   "metadata": {},
   "outputs": [
    {
     "name": "stdout",
     "output_type": "stream",
     "text": [
      "All counties match, proceed to next step\n"
     ]
    }
   ],
   "source": [
    "null_count = 0\n",
    "with arcpy.da.SearchCursor(counties_new, [\"CountyChecker\"]) as cursor:\n",
    "    for row in cursor:\n",
    "            # Check if the field value is None (NULL in ArcGIS)\n",
    "        if row[0] is None:\n",
    "            null_count += 1\n",
    "    \n",
    "if null_count == 0:\n",
    "    print(\"All counties match, proceed to next step\")\n",
    "else:\n",
    "    print(f\"WAIT! There are {null_count} counties that are not matched in the UCF table. Go back and fix before proceeding.\")"
   ]
  },
  {
   "cell_type": "code",
   "execution_count": 123,
   "metadata": {},
   "outputs": [
    {
     "data": {
      "text/html": [
       "<div class='gpresult'><h2>Messages</h2><div id='messages'>Start Time: Wednesday, September 11, 2024 2:06:53 PM<br>Succeeded at Wednesday, September 11, 2024 2:06:55 PM (Elapsed Time: 2.22 seconds)<br></div><div id = 'default' /></div></div>"
      ],
      "text/plain": [
       "<Result 'Q5_2024_Counties'>"
      ]
     },
     "execution_count": 123,
     "metadata": {},
     "output_type": "execute_result"
    }
   ],
   "source": [
    "arcpy.management.JoinField(counties_new, \n",
    "                           \"CountyName\", \n",
    "                           f\"{qtr}_Counties_FromAccess\" , \n",
    "                           \"CountyName\", \n",
    "                           [\"FIA_Plots\", \"Management_Plans\", \"Conservation_Education_Total\", \"Technical_Assistance_Total\"])"
   ]
  },
  {
   "cell_type": "code",
   "execution_count": null,
   "metadata": {},
   "outputs": [],
   "source": []
  }
 ],
 "metadata": {
  "celltoolbar": "Raw Cell Format",
  "kernelspec": {
   "display_name": "ArcGISPro",
   "language": "Python",
   "name": "python3"
  },
  "language_info": {
   "file_extension": ".py",
   "name": "python",
   "version": "3"
  }
 },
 "nbformat": 4,
 "nbformat_minor": 2
}
